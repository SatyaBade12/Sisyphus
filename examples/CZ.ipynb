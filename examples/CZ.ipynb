{
 "cells": [
  {
   "cell_type": "code",
   "execution_count": 1,
   "id": "canadian-drive",
   "metadata": {},
   "outputs": [
    {
     "data": {
      "text/plain": [
       "false"
      ]
     },
     "execution_count": 1,
     "metadata": {},
     "output_type": "execute_result"
    }
   ],
   "source": [
    "using Revise\n",
    "using QuantumOptimalControl\n",
    "using QuantumOptics\n",
    "using MKLSparse\n",
    "using LinearAlgebra\n",
    "using Flux, DiffEqFlux\n",
    "using Optim\n",
    "using Plots\n",
    "using DifferentialEquations: Tsit5, DP5\n",
    "using Random\n",
    "using ProgressMeter\n",
    "ProgressMeter.ijulia_behavior(:clear)"
   ]
  },
  {
   "cell_type": "code",
   "execution_count": 2,
   "id": "worldwide-peninsula",
   "metadata": {},
   "outputs": [
    {
     "data": {
      "text/plain": [
       "TaskLocalRNG()"
      ]
     },
     "execution_count": 2,
     "metadata": {},
     "output_type": "execute_result"
    }
   ],
   "source": [
    "Random.seed!(3)"
   ]
  },
  {
   "cell_type": "markdown",
   "id": "psychological-outreach",
   "metadata": {},
   "source": [
    "$$H = \\frac{\\Omega(t)}{2}\\left[e^{i\\phi(t)} (\\sigma_+^1 + \\sigma_+^2) +  e^{-i\\phi(t)} (\\sigma_-^1+\\sigma_-^2)\\right] - \\Delta(t) (n_1 + n_2) + V n_1n_2$$\n",
    "\n",
    "$$H = \\frac{\\Omega(t)}{2}\\left[e^{i\\phi(t)} \\sigma_+  +  e^{-i\\phi(t)} \\sigma_-\\right] - \\Delta(t) \\sigma_z + V n_1n_2$$"
   ]
  },
  {
   "cell_type": "code",
   "execution_count": 3,
   "id": "stable-burke",
   "metadata": {},
   "outputs": [
    {
     "data": {
      "text/plain": [
       "18.84955592153876"
      ]
     },
     "execution_count": 3,
     "metadata": {},
     "output_type": "execute_result"
    }
   ],
   "source": [
    "V = 2π*3.0 # MHz"
   ]
  },
  {
   "cell_type": "code",
   "execution_count": 4,
   "id": "native-workplace",
   "metadata": {},
   "outputs": [],
   "source": [
    "bs = NLevelBasis(3)\n",
    "bsys = bs⊗bs\n",
    "\n",
    "id = identityoperator(bs)\n",
    "\n",
    "sp1 = transition(bs, 3, 2)⊗id\n",
    "sm1 = transition(bs, 2, 3)⊗id\n",
    "\n",
    "sp2 = id⊗transition(bs, 3, 2)\n",
    "sm2 = id⊗transition(bs, 2, 3)\n",
    "\n",
    "n1 = transition(bs, 3, 3)⊗id\n",
    "n2 = id⊗transition(bs, 3, 3);"
   ]
  },
  {
   "cell_type": "code",
   "execution_count": 5,
   "id": "chubby-sacramento",
   "metadata": {},
   "outputs": [],
   "source": [
    "H = Hamiltonian(V*(n1*n2))\n",
    "H += (n1 + n2)\n",
    "H += (sp1 + sp2 + sm1 + sm2)\n",
    "H += 1.0im*(sp1 + sp2 - sm1 - sm2);"
   ]
  },
  {
   "cell_type": "code",
   "execution_count": 6,
   "id": "spread-subject",
   "metadata": {},
   "outputs": [],
   "source": [
    "states= [nlevelstate(bs, 1)⊗nlevelstate(bs, 1),\n",
    "         nlevelstate(bs, 1)⊗nlevelstate(bs, 2),\n",
    "         nlevelstate(bs, 2)⊗nlevelstate(bs, 1),\n",
    "         nlevelstate(bs, 2)⊗nlevelstate(bs, 2)]\n",
    "\n",
    "trans = UnitaryTransform(states, [[1.0 0 0 0 ];[0 1.0 0 0 ];[0 0 1.0 0 ]; [0 0 0 -1.0]]);"
   ]
  },
  {
   "cell_type": "code",
   "execution_count": 7,
   "id": "biblical-congress",
   "metadata": {},
   "outputs": [
    {
     "data": {
      "text/plain": [
       "627-element Vector{Float64}:\n",
       " -0.06937228086515113\n",
       "  0.3671092755277512\n",
       " -0.5345324029179985\n",
       " -0.3002323753493943\n",
       "  0.8349564422875935\n",
       "  0.4336514600185357\n",
       "  0.9858209653291647\n",
       " -0.25215307580705115\n",
       " -0.7505146032696866\n",
       "  0.4068134194972677\n",
       "  0.512436109189913\n",
       " -0.30952674044677453\n",
       "  0.4820782600626925\n",
       "  ⋮\n",
       "  0.4047637201689982\n",
       " -0.004109531533656341\n",
       " -0.27818154812574725\n",
       "  0.9898024346265548\n",
       "  0.2872689964543662\n",
       "  0.5567424926736402\n",
       " -0.9091575446683373\n",
       "  0.9506122157764831\n",
       "  0.029215629683503996\n",
       "  0.9224104179891424\n",
       " -0.09188062915410611\n",
       " -0.7089143086398042"
      ]
     },
     "execution_count": 7,
     "metadata": {},
     "output_type": "execute_result"
    }
   ],
   "source": [
    "n_neurons = 16\n",
    "ann = FastChain(FastDense(1, n_neurons, tanh), \n",
    "                FastDense(n_neurons, n_neurons, tanh), \n",
    "                FastDense(n_neurons, n_neurons, tanh), \n",
    "                FastDense(n_neurons, 3))\n",
    "θ = initial_params(ann)     \n",
    "n_params = length(θ);\n",
    "\n",
    "θ = 2.0*rand(n_params).-1.0"
   ]
  },
  {
   "cell_type": "code",
   "execution_count": 8,
   "id": "tracked-bolivia",
   "metadata": {},
   "outputs": [],
   "source": [
    "t0, t1 = 0.0, 1.0\n",
    "coeffs(p) = t->let vals = ann([t], p)\n",
    "                [-vals[1], abs(vals[2])*cos(vals[3]), abs(vals[2])*sin(vals[3])]\n",
    "               end    \n",
    "dr = ParametricDrive(Vector{Float64}(θ), coeffs, (t0, t1))\n",
    "cost = CostFunction((x, y) -> x'*y,\n",
    "                     p->2e-12*(ann([t0], p)[2]^2+ ann([t1], p)[2]^2))\n",
    "\n",
    "prob = QOCProblem(H, dr, trans, cost);"
   ]
  },
  {
   "cell_type": "code",
   "execution_count": 11,
   "id": "ordered-annual",
   "metadata": {},
   "outputs": [
    {
     "name": "stderr",
     "output_type": "stream",
     "text": [
      "\r",
      "\u001b[32mProgress: 100%|█████████████████████████████████████████| Time: 0:03:42\u001b[39m\r\n",
      "\u001b[34m  cost:  0.6217341168298622\u001b[39m\n"
     ]
    },
    {
     "data": {
      "text/plain": [
       "Solution{Float64}([1.0880021223590952, 1.1623299163052243, -1.6035728702050007, -1.1549426809286087, 1.7468975892608665, 1.6843018185361252, 2.397591468843422, 0.48357258248166946, -0.009271698150310247, 0.32695034749055246  …  -1.4707276256326804, 0.2686653640305373, 0.2986541401767957, 1.7524099662131474, 0.25169527932365765, 0.32421568468889567, -3.141104171252357, -2.4410857651368723, 0.474655903424609, -0.7089142624407778], [0.623412885842164, 0.6494202901803994, -0.3448910656642461, 0.5418798578385007, 0.5105017701783175, 0.50579638112434, 0.549428388458658, -0.29056586288533814, 0.5061750732897914, 0.5052694854606281  …  0.6212621583913123, 0.6212495225094583, 0.621794090245396, 0.6218957000782726, 0.621572217748701, 0.6216023299622288, 0.621892675087282, 0.6219491397674137, 0.6217628556592237, 0.6217341168298622])"
      ]
     },
     "execution_count": 11,
     "metadata": {},
     "output_type": "execute_result"
    }
   ],
   "source": [
    "sol = QuantumOptimalControl.optimize(prob, ADAM(0.1), alg=Tsit5(), \n",
    "                                     n_iter=300, abstol=1e-4, reltol=1e-4)"
   ]
  },
  {
   "cell_type": "code",
   "execution_count": null,
   "id": "controlled-space",
   "metadata": {},
   "outputs": [],
   "source": []
  },
  {
   "cell_type": "code",
   "execution_count": null,
   "id": "established-avenue",
   "metadata": {},
   "outputs": [],
   "source": []
  }
 ],
 "metadata": {
  "kernelspec": {
   "display_name": "Julia 1.7.0",
   "language": "julia",
   "name": "julia-1.7"
  },
  "language_info": {
   "file_extension": ".jl",
   "mimetype": "application/julia",
   "name": "julia",
   "version": "1.7.0"
  }
 },
 "nbformat": 4,
 "nbformat_minor": 5
}
