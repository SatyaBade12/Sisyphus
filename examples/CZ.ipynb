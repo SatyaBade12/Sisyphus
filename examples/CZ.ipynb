{
 "cells": [
  {
   "cell_type": "markdown",
   "id": "5b2fe912",
   "metadata": {},
   "source": [
    "# CZ gate in Rydberg atoms"
   ]
  },
  {
   "cell_type": "markdown",
   "id": "f58d9b03",
   "metadata": {},
   "source": [
    "$$H = \\frac{\\Omega(t)}{2}\\left[e^{i\\phi(t)} (\\sigma_+^1 + \\sigma_+^2) +  e^{-i\\phi(t)} (\\sigma_-^1+\\sigma_-^2)\\right] - \\Delta(t) (n_1 + n_2) + V n_1n_2$$"
   ]
  },
  {
   "cell_type": "code",
   "execution_count": 2,
   "id": "602fc296",
   "metadata": {},
   "outputs": [],
   "source": [
    "using Revise\n",
    "using QuantumOptimalControl\n",
    "using QuantumOptics\n",
    "using Flux, DiffEqFlux\n",
    "using Plots\n",
    "using Random\n",
    "using ProgressMeter\n",
    "\n",
    "ProgressMeter.ijulia_behavior(:clear);"
   ]
  },
  {
   "cell_type": "code",
   "execution_count": 3,
   "id": "1e0b9f36",
   "metadata": {},
   "outputs": [
    {
     "data": {
      "text/plain": [
       "62.83185307179586"
      ]
     },
     "execution_count": 3,
     "metadata": {},
     "output_type": "execute_result"
    }
   ],
   "source": [
    "V = 2π*10.0 # MHz"
   ]
  },
  {
   "cell_type": "code",
   "execution_count": 4,
   "id": "48986643",
   "metadata": {},
   "outputs": [],
   "source": [
    "bs = NLevelBasis(3)\n",
    "bsys = bs⊗bs\n",
    "\n",
    "id = identityoperator(bs)\n",
    "\n",
    "sp1 = transition(bs, 3, 2)⊗id\n",
    "sm1 = transition(bs, 2, 3)⊗id\n",
    "\n",
    "sp2 = id⊗transition(bs, 3, 2)\n",
    "sm2 = id⊗transition(bs, 2, 3)\n",
    "\n",
    "n1 = transition(bs, 3, 3)⊗id\n",
    "n2 = id⊗transition(bs, 3, 3);"
   ]
  },
  {
   "cell_type": "code",
   "execution_count": 5,
   "id": "7923dbb9",
   "metadata": {},
   "outputs": [],
   "source": [
    "H0 = V*(n1*n2)\n",
    "H1 = (n1 + n2)\n",
    "H2 = (sp1 + sp2 + sm1 + sm2)\n",
    "H3 = 1.0im*(sp1 + sp2 - sm1 - sm2);"
   ]
  },
  {
   "cell_type": "code",
   "execution_count": 6,
   "id": "118868ec",
   "metadata": {},
   "outputs": [],
   "source": [
    "states= [nlevelstate(bs, 1)⊗nlevelstate(bs, 1),\n",
    "         nlevelstate(bs, 1)⊗nlevelstate(bs, 2),\n",
    "         nlevelstate(bs, 2)⊗nlevelstate(bs, 1),\n",
    "         nlevelstate(bs, 2)⊗nlevelstate(bs, 2)]\n",
    "\n",
    "trans = UnitaryTransform(states, [[1.0 0 0 0 ];[0 1.0 0 0 ];[0 0 1.0 0 ]; [0 0 0 -1.0]]);"
   ]
  },
  {
   "cell_type": "code",
   "execution_count": 7,
   "id": "0c0fce63",
   "metadata": {},
   "outputs": [],
   "source": [
    "n_neurons = 4\n",
    "ann = FastChain(FastDense(1, n_neurons, tanh), \n",
    "                FastDense(n_neurons, n_neurons, tanh), \n",
    "                FastDense(n_neurons, n_neurons, tanh), \n",
    "                FastDense(n_neurons, 3))\n",
    "θ = initial_params(ann)     \n",
    "n_params = length(θ);\n",
    "Random.seed!(3)\n",
    "θ = 2.0*rand(n_params).-1.0;"
   ]
  },
  {
   "cell_type": "code",
   "execution_count": 8,
   "id": "956815f6",
   "metadata": {},
   "outputs": [],
   "source": [
    "t0, t1 = 0.0, 1.0\n",
    "sigmoid(x)= @. 2π*7 / (1 + exp(-x))\n",
    "coeffs(p, t) = let vals = ann([t], p)\n",
    "                [-vals[1], sigmoid(vals[2])*cos(vals[3]), sigmoid(vals[2])*sin(vals[3])]\n",
    "               end    \n",
    "cost = CostFunction((x, y) -> 1.0-abs2(x'*y),\n",
    "                     p->2e-2*(sigmoid(ann([t0], p)[2])^2 + sigmoid(ann([t1], p)[2])^2))\n",
    "\n",
    "H = Hamiltonian(H0, [H1, H2, H3], coeffs)\n",
    "\n",
    "prob = QOCProblem(H, trans, (t0, t1), cost);"
   ]
  },
  {
   "cell_type": "code",
   "execution_count": 12,
   "id": "815986de",
   "metadata": {},
   "outputs": [
    {
     "name": "stderr",
     "output_type": "stream",
     "text": [
      "\r",
      "\u001b[32mProgress: 100%|█████████████████████████████████████████| Time: 0:04:48\u001b[39m\r\n",
      "\u001b[34m  distance:     0.007840998244539127\u001b[39m\r\n",
      "\u001b[34m  constraints:  4.51625262386786\u001b[39m\n"
     ]
    },
    {
     "data": {
      "text/plain": [
       "Solution{Float64}([0.533944835939007, 0.5411706792864116, -0.39370950659263765, 1.1929489876730237, 0.3279335944500537, -0.09391470525329942, -0.00912834687351155, -0.49001287458304843, -0.051594605020617856, -0.6963408978926312  …  1.0250207113666499, 0.41531162673820005, -0.47515090335705434, 1.17813203902096, 0.4099320431840333, -1.0112835820959676, -0.6481359540952559, 1.9574367990159915, -0.49641587491443545, -0.893962279730682], [0.26843114751889097, 0.49414834803686414, 0.5177275011608675, 0.23214670807974766, 0.2673179854334751, 0.6068319927033263, 0.4451347291200315, 0.05643794881100184, 0.40417221837143175, 0.7223618592292169  …  0.008997434128371617, 0.008859576035184336, 0.008724157260282472, 0.008591133923057687, 0.00846046359845029, 0.008332105095932962, 0.008206018260838166, 0.008082163799339626, 0.007960503127558666, 0.007840998244539127], [1532.663776850894, 1449.9969449204282, 1369.1856626391261, 1290.6835019832688, 1214.9441038117075, 1142.3428142220687, 1073.1052796905883, 1007.3289271326232, 945.0895359987063, 886.3894205760935  …  4.743213478891374, 4.717080798116378, 4.691183586715802, 4.665518874204947, 4.640083737660769, 4.614875300945895, 4.589890733934995, 4.565127251743332, 4.5405821139574, 4.51625262386786], Vector{Float64}[])"
      ]
     },
     "execution_count": 12,
     "metadata": {},
     "output_type": "execute_result"
    }
   ],
   "source": [
    "sol = solve(prob, θ, ADAM(0.008); maxiter=300, abstol=1e-6, reltol=1e-6)"
   ]
  },
  {
   "cell_type": "code",
   "execution_count": 13,
   "id": "030b882b",
   "metadata": {},
   "outputs": [
    {
     "name": "stderr",
     "output_type": "stream",
     "text": [
      "\r",
      "\u001b[32mProgress: 100%|█████████████████████████████████████████| Time: 0:16:18\u001b[39m\r\n",
      "\u001b[34m  distance:     1.2775702440404046e-9\u001b[39m\r\n",
      "\u001b[34m  constraints:  0.007536927070112456\u001b[39m\n"
     ]
    },
    {
     "data": {
      "text/plain": [
       "Solution{Float64}([0.820542049211993, 0.746318514947916, -0.5985610572275467, 1.020568975409464, 0.5253852049216425, 0.35923985215869386, -0.25455368865782796, -0.37765411716478325, -0.27051985941948453, -0.4068590910858812  …  1.2065389569392322, 0.6336320784910652, -1.0885383304133631, 1.3349253376618715, 0.6280623827150965, -1.6218340523657984, -0.8477871377653223, 2.1753809583303747, -1.101625062702057, -0.8939622795967975], [0.007723611628364602, 0.006180860180573566, 0.005221428847282827, 0.004608665145991453, 0.004180498340466604, 0.0038356018539024705, 0.0035173007609049234, 0.0031991701459576916, 0.002873584718346811, 0.0025433399241110433  …  1.3086068617607083e-9, 1.3050966973793265e-9, 1.3016022426537432e-9, 1.2981233588060803e-9, 1.2946599348140353e-9, 1.291211471077247e-9, 1.2877788280185598e-9, 1.2843608954149488e-9, 1.2809582006223508e-9, 1.2775702440404046e-9], [4.492136127705154, 4.069479412319481, 3.693297623871543, 3.358422251377977, 3.060119804585499, 2.7941551206588855, 2.5567815435367622, 2.3446896288022403, 2.1549558037188774, 1.9849989854233332  …  0.007673146680696182, 0.007657823235919344, 0.007642547244755294, 0.00762731850390435, 0.007612136811181586, 0.007597001965509269, 0.007581913766909584, 0.0075668720164972295, 0.007551876516472185, 0.007536927070112456], Vector{Float64}[])"
      ]
     },
     "execution_count": 13,
     "metadata": {},
     "output_type": "execute_result"
    }
   ],
   "source": [
    "cost.constraints = p->(sigmoid(ann([t0], p)[2])^2 + sigmoid(ann([t1], p)[2])^2)\n",
    "sol1 = solve(prob, sol.params, ADAM(0.008); maxiter=800, abstol=1e-6, reltol=1e-6)"
   ]
  },
  {
   "cell_type": "code",
   "execution_count": 14,
   "id": "35309c45",
   "metadata": {},
   "outputs": [
    {
     "data": {
      "text/plain": [
       "ϕ (generic function with 1 method)"
      ]
     },
     "execution_count": 14,
     "metadata": {},
     "output_type": "execute_result"
    }
   ],
   "source": [
    "Ω(t) = sigmoid(ann([t], sol1.params)[2])/2π\n",
    "Δ(t) = -ann([t], sol1.params)[1]/2π\n",
    "ϕ(t) = ann([t], sol1.params)[3]"
   ]
  },
  {
   "cell_type": "code",
   "execution_count": 11,
   "id": "915b090a",
   "metadata": {},
   "outputs": [
    {
     "data": {
      "text/plain": [
       "\"cz_wfs.eps\""
      ]
     },
     "execution_count": 11,
     "metadata": {},
     "output_type": "execute_result"
    }
   ],
   "source": [
    "ts = collect(t0:t1/100:t1)\n",
    "f = plot(\n",
    "    [\n",
    "        scatter(x=ts, y=Ω.(ts), name=\"Ω/2π\"),\n",
    "        scatter(x=ts, y=Δ.(ts), name=\"Δ/2π\"),\n",
    "        scatter(x=ts, y=ϕ.(ts), name=\"ϕ (rad)\", yaxis=\"y2\")\n",
    "    ],\n",
    "    Layout(\n",
    "        xaxis_title_text=\"Time (µs)\",\n",
    "        yaxis_title_text=\"Frequency (MHz)\",\n",
    "        yaxis2=attr(\n",
    "            title=\"Radians\",\n",
    "            overlaying=\"y\",\n",
    "            side=\"right\"\n",
    "        ),\n",
    "        legend=attr(x=0, y=1,),\n",
    "        font=attr(\n",
    "            size=16,\n",
    "        )\n",
    "    )\n",
    ")\n",
    "savefig(f, \"cz_wfs.eps\")"
   ]
  },
  {
   "cell_type": "code",
   "execution_count": 12,
   "id": "e990043d",
   "metadata": {},
   "outputs": [],
   "source": [
    "tout, psit22 = schroedinger_dynamic(ts, nlevelstate(bs, 2)⊗nlevelstate(bs, 2),\n",
    "                                    H, sol1.params)\n",
    "tout, psit21 = schroedinger_dynamic(ts, nlevelstate(bs, 2)⊗nlevelstate(bs, 1),\n",
    "                                    H, sol1.params)\n",
    "tout, psit12 = schroedinger_dynamic(ts, nlevelstate(bs, 1)⊗nlevelstate(bs, 2),\n",
    "                                    H, sol1.params)\n",
    "tout, psit11 = schroedinger_dynamic(ts, nlevelstate(bs, 1)⊗nlevelstate(bs, 1),\n",
    "                                    H, sol1.params);"
   ]
  },
  {
   "cell_type": "code",
   "execution_count": 13,
   "id": "6ace3078",
   "metadata": {},
   "outputs": [
    {
     "data": {
      "text/plain": [
       "\"cz_overlap.eps\""
      ]
     },
     "execution_count": 13,
     "metadata": {},
     "output_type": "execute_result"
    }
   ],
   "source": [
    "f = plot([\n",
    "     scatter(x=tout, y=[real((nlevelstate(bs, 2)⊗nlevelstate(bs, 2))'*elm) for elm in psit22], name=\"|22⟩\"),\n",
    "     scatter(x=tout, y=[real((nlevelstate(bs, 2)⊗nlevelstate(bs, 1))'*elm) for elm in psit21], name=\"|21⟩\"),\n",
    "     scatter(x=tout, y=[real((nlevelstate(bs, 1)⊗nlevelstate(bs, 2))'*elm) for elm in psit12], name=\"|12⟩\"),\n",
    "     scatter(x=tout, y=[real((nlevelstate(bs, 1)⊗nlevelstate(bs, 1))'*elm) for elm in psit11], name=\"|11⟩\")        \n",
    "    ],\n",
    "    Layout(\n",
    "        xaxis_title_text=\"Time (µs)\",\n",
    "        yaxis_title_text=\"Overlap (⟨ij|ψ⟩)\",\n",
    "        legend=attr(x=0.75, y=0.5,),\n",
    "        font=attr(\n",
    "            size=16\n",
    "        )\n",
    "    )\n",
    ")\n",
    "savefig(f, \"cz_overlap.eps\")"
   ]
  },
  {
   "cell_type": "code",
   "execution_count": null,
   "id": "3b540ce1",
   "metadata": {},
   "outputs": [],
   "source": []
  }
 ],
 "metadata": {
  "@webio": {
   "lastCommId": "9bb88a5b5c1943b9aa23f8e59ac4ec05",
   "lastKernelId": "0f3b2f5f-8cd6-435e-8c91-915b767249b4"
  },
  "kernelspec": {
   "display_name": "Julia 1.7.0",
   "language": "julia",
   "name": "julia-1.7"
  },
  "language_info": {
   "file_extension": ".jl",
   "mimetype": "application/julia",
   "name": "julia",
   "version": "1.7.0"
  }
 },
 "nbformat": 4,
 "nbformat_minor": 5
}
