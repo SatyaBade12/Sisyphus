{
 "cells": [
  {
   "cell_type": "markdown",
   "metadata": {},
   "source": [
    "# Noisy two-level system"
   ]
  },
  {
   "cell_type": "markdown",
   "metadata": {},
   "source": [
    "The dynamics of open quantum systems can be described with a master equation\n",
    "\n",
    "$$\\dot{\\rho} = -i[H, \\rho]  + \\sum_k \\gamma_k \\big( J_k \\rho J_k^\\dagger - \\frac{1}{2} J_k^\\dagger J_k \\rho - \\frac{1}{2} \\rho J_k^\\dagger J_k \\big),$$\n",
    "where $J_k$ are jump operators and $\\gamma_k$ corresponding jump rates. We again consider a simple two-level system Hamiltonian\n",
    "\n",
    "$$H(t) = -\\frac{\\omega_0}{2}\\sigma_z + \\Omega(t)\\sigma_x,$$\n",
    "\n",
    "in a noisy setting by introducing relaxation through a jump operator $J_1 = \\sigma_-$ and with rate $\\gamma_1 = 0.01$."
   ]
  },
  {
   "cell_type": "code",
   "execution_count": 1,
   "metadata": {},
   "outputs": [],
   "source": [
    "using Sisyphus\n",
    "using QuantumOptics\n",
    "using Flux, DiffEqFlux\n",
    "using Plots\n",
    "using Random\n",
    "using ProgressMeter\n",
    "\n",
    "ProgressMeter.ijulia_behavior(:clear);"
   ]
  },
  {
   "cell_type": "markdown",
   "metadata": {},
   "source": [
    "We can add `tanh` activation function to the final layer of the neural network to bound the amplitude of our pulse $\\Omega(t)$."
   ]
  },
  {
   "cell_type": "code",
   "execution_count": 2,
   "metadata": {},
   "outputs": [
    {
     "name": "stdout",
     "output_type": "stream",
     "text": [
      "Number of parameters: 53\n"
     ]
    }
   ],
   "source": [
    "n_neurons = 4\n",
    "\n",
    "Random.seed!(0)\n",
    "ann = FastChain(FastDense(1, n_neurons, tanh), \n",
    "                FastDense(n_neurons, n_neurons, tanh),\n",
    "                FastDense(n_neurons, n_neurons, tanh),\n",
    "                FastDense(n_neurons, 1, tanh))\n",
    "θ = Vector{Float64}(initial_params(ann));\n",
    "\n",
    "println(\"Number of parameters: \", length(θ))\n",
    "\n",
    "Ω(params, t) = 3.0 * ann([t], params)[1];"
   ]
  },
  {
   "cell_type": "markdown",
   "metadata": {},
   "source": [
    "Let's first consider our problem without the noise by minimizing the infidelity."
   ]
  },
  {
   "cell_type": "code",
   "execution_count": 3,
   "metadata": {},
   "outputs": [
    {
     "name": "stderr",
     "output_type": "stream",
     "text": [
      "\r",
      "\u001b[32mProgress: 100%|█████████████████████████████████████████| Time: 0:03:19\u001b[39m\r\n",
      "\u001b[34m  distance:     0.000473496411684593\u001b[39m\r\n",
      "\u001b[34m  constraints:  0.0\u001b[39m\n"
     ]
    },
    {
     "name": "stdout",
     "output_type": "stream",
     "text": [
      "229.558013 seconds (182.89 M allocations: 13.623 GiB, 76.25% gc time, 22.85% compilation time)\n"
     ]
    }
   ],
   "source": [
    "(t0, t1) = (0.0, 1.0)\n",
    "cost = CostFunction((x, y) -> 1.0 - abs2(x'*y))\n",
    "\n",
    "bs = SpinBasis(1//2)\n",
    "trans = StateTransform(spindown(bs)=>spinup(bs))\n",
    "H = Hamiltonian(-0.5*sigmaz(bs), [sigmax(bs)], Ω)\n",
    "\n",
    "prob = QOCProblem(H, trans, (t0, t1), cost)\n",
    "@time sol = solve(prob, θ, ADAM(0.1); maxiter=500);"
   ]
  },
  {
   "cell_type": "code",
   "execution_count": 4,
   "metadata": {},
   "outputs": [
    {
     "data": {
      "image/svg+xml": [
       "<?xml version=\"1.0\" encoding=\"utf-8\"?>\n",
       "<svg xmlns=\"http://www.w3.org/2000/svg\" xmlns:xlink=\"http://www.w3.org/1999/xlink\" width=\"600\" height=\"400\" viewBox=\"0 0 2400 1600\">\n",
       "<defs>\n",
       "  <clipPath id=\"clip570\">\n",
       "    <rect x=\"0\" y=\"0\" width=\"2400\" height=\"1600\"/>\n",
       "  </clipPath>\n",
       "</defs>\n",
       "<path clip-path=\"url(#clip570)\" d=\"\n",
       "M0 1600 L2400 1600 L2400 0 L0 0  Z\n",
       "  \" fill=\"#ffffff\" fill-rule=\"evenodd\" fill-opacity=\"1\"/>\n",
       "<defs>\n",
       "  <clipPath id=\"clip571\">\n",
       "    <rect x=\"480\" y=\"0\" width=\"1681\" height=\"1600\"/>\n",
       "  </clipPath>\n",
       "</defs>\n",
       "<path clip-path=\"url(#clip570)\" d=\"\n",
       "M211.325 1423.18 L2352.76 1423.18 L2352.76 47.2441 L211.325 47.2441  Z\n",
       "  \" fill=\"#ffffff\" fill-rule=\"evenodd\" fill-opacity=\"1\"/>\n",
       "<defs>\n",
       "  <clipPath id=\"clip572\">\n",
       "    <rect x=\"211\" y=\"47\" width=\"2142\" height=\"1377\"/>\n",
       "  </clipPath>\n",
       "</defs>\n",
       "<polyline clip-path=\"url(#clip572)\" style=\"stroke:#000000; stroke-linecap:butt; stroke-linejoin:round; stroke-width:2; stroke-opacity:0.1; fill:none\" points=\"\n",
       "  271.931,1423.18 271.931,47.2441 \n",
       "  \"/>\n",
       "<polyline clip-path=\"url(#clip572)\" style=\"stroke:#000000; stroke-linecap:butt; stroke-linejoin:round; stroke-width:2; stroke-opacity:0.1; fill:none\" points=\"\n",
       "  776.986,1423.18 776.986,47.2441 \n",
       "  \"/>\n",
       "<polyline clip-path=\"url(#clip572)\" style=\"stroke:#000000; stroke-linecap:butt; stroke-linejoin:round; stroke-width:2; stroke-opacity:0.1; fill:none\" points=\"\n",
       "  1282.04,1423.18 1282.04,47.2441 \n",
       "  \"/>\n",
       "<polyline clip-path=\"url(#clip572)\" style=\"stroke:#000000; stroke-linecap:butt; stroke-linejoin:round; stroke-width:2; stroke-opacity:0.1; fill:none\" points=\"\n",
       "  1787.09,1423.18 1787.09,47.2441 \n",
       "  \"/>\n",
       "<polyline clip-path=\"url(#clip572)\" style=\"stroke:#000000; stroke-linecap:butt; stroke-linejoin:round; stroke-width:2; stroke-opacity:0.1; fill:none\" points=\"\n",
       "  2292.15,1423.18 2292.15,47.2441 \n",
       "  \"/>\n",
       "<polyline clip-path=\"url(#clip570)\" style=\"stroke:#000000; stroke-linecap:butt; stroke-linejoin:round; stroke-width:4; stroke-opacity:1; fill:none\" points=\"\n",
       "  211.325,1423.18 2352.76,1423.18 \n",
       "  \"/>\n",
       "<polyline clip-path=\"url(#clip570)\" style=\"stroke:#000000; stroke-linecap:butt; stroke-linejoin:round; stroke-width:4; stroke-opacity:1; fill:none\" points=\"\n",
       "  271.931,1423.18 271.931,1404.28 \n",
       "  \"/>\n",
       "<polyline clip-path=\"url(#clip570)\" style=\"stroke:#000000; stroke-linecap:butt; stroke-linejoin:round; stroke-width:4; stroke-opacity:1; fill:none\" points=\"\n",
       "  776.986,1423.18 776.986,1404.28 \n",
       "  \"/>\n",
       "<polyline clip-path=\"url(#clip570)\" style=\"stroke:#000000; stroke-linecap:butt; stroke-linejoin:round; stroke-width:4; stroke-opacity:1; fill:none\" points=\"\n",
       "  1282.04,1423.18 1282.04,1404.28 \n",
       "  \"/>\n",
       "<polyline clip-path=\"url(#clip570)\" style=\"stroke:#000000; stroke-linecap:butt; stroke-linejoin:round; stroke-width:4; stroke-opacity:1; fill:none\" points=\"\n",
       "  1787.09,1423.18 1787.09,1404.28 \n",
       "  \"/>\n",
       "<polyline clip-path=\"url(#clip570)\" style=\"stroke:#000000; stroke-linecap:butt; stroke-linejoin:round; stroke-width:4; stroke-opacity:1; fill:none\" points=\"\n",
       "  2292.15,1423.18 2292.15,1404.28 \n",
       "  \"/>\n",
       "<path clip-path=\"url(#clip570)\" d=\"M234.235 1454.1 Q230.624 1454.1 228.795 1457.66 Q226.989 1461.2 226.989 1468.33 Q226.989 1475.44 228.795 1479.01 Q230.624 1482.55 234.235 1482.55 Q237.869 1482.55 239.674 1479.01 Q241.503 1475.44 241.503 1468.33 Q241.503 1461.2 239.674 1457.66 Q237.869 1454.1 234.235 1454.1 M234.235 1450.39 Q240.045 1450.39 243.1 1455 Q246.179 1459.58 246.179 1468.33 Q246.179 1477.06 243.1 1481.67 Q240.045 1486.25 234.235 1486.25 Q228.424 1486.25 225.346 1481.67 Q222.29 1477.06 222.29 1468.33 Q222.29 1459.58 225.346 1455 Q228.424 1450.39 234.235 1450.39 Z\" fill=\"#000000\" fill-rule=\"evenodd\" fill-opacity=\"1\" /><path clip-path=\"url(#clip570)\" d=\"M254.397 1479.7 L259.281 1479.7 L259.281 1485.58 L254.397 1485.58 L254.397 1479.7 Z\" fill=\"#000000\" fill-rule=\"evenodd\" fill-opacity=\"1\" /><path clip-path=\"url(#clip570)\" d=\"M279.466 1454.1 Q275.855 1454.1 274.026 1457.66 Q272.221 1461.2 272.221 1468.33 Q272.221 1475.44 274.026 1479.01 Q275.855 1482.55 279.466 1482.55 Q283.1 1482.55 284.906 1479.01 Q286.734 1475.44 286.734 1468.33 Q286.734 1461.2 284.906 1457.66 Q283.1 1454.1 279.466 1454.1 M279.466 1450.39 Q285.276 1450.39 288.332 1455 Q291.41 1459.58 291.41 1468.33 Q291.41 1477.06 288.332 1481.67 Q285.276 1486.25 279.466 1486.25 Q273.656 1486.25 270.577 1481.67 Q267.521 1477.06 267.521 1468.33 Q267.521 1459.58 270.577 1455 Q273.656 1450.39 279.466 1450.39 Z\" fill=\"#000000\" fill-rule=\"evenodd\" fill-opacity=\"1\" /><path clip-path=\"url(#clip570)\" d=\"M309.628 1454.1 Q306.017 1454.1 304.188 1457.66 Q302.382 1461.2 302.382 1468.33 Q302.382 1475.44 304.188 1479.01 Q306.017 1482.55 309.628 1482.55 Q313.262 1482.55 315.068 1479.01 Q316.896 1475.44 316.896 1468.33 Q316.896 1461.2 315.068 1457.66 Q313.262 1454.1 309.628 1454.1 M309.628 1450.39 Q315.438 1450.39 318.493 1455 Q321.572 1459.58 321.572 1468.33 Q321.572 1477.06 318.493 1481.67 Q315.438 1486.25 309.628 1486.25 Q303.818 1486.25 300.739 1481.67 Q297.683 1477.06 297.683 1468.33 Q297.683 1459.58 300.739 1455 Q303.818 1450.39 309.628 1450.39 Z\" fill=\"#000000\" fill-rule=\"evenodd\" fill-opacity=\"1\" /><path clip-path=\"url(#clip570)\" d=\"M739.787 1454.1 Q736.176 1454.1 734.347 1457.66 Q732.542 1461.2 732.542 1468.33 Q732.542 1475.44 734.347 1479.01 Q736.176 1482.55 739.787 1482.55 Q743.421 1482.55 745.227 1479.01 Q747.055 1475.44 747.055 1468.33 Q747.055 1461.2 745.227 1457.66 Q743.421 1454.1 739.787 1454.1 M739.787 1450.39 Q745.597 1450.39 748.653 1455 Q751.731 1459.58 751.731 1468.33 Q751.731 1477.06 748.653 1481.67 Q745.597 1486.25 739.787 1486.25 Q733.977 1486.25 730.898 1481.67 Q727.842 1477.06 727.842 1468.33 Q727.842 1459.58 730.898 1455 Q733.977 1450.39 739.787 1450.39 Z\" fill=\"#000000\" fill-rule=\"evenodd\" fill-opacity=\"1\" /><path clip-path=\"url(#clip570)\" d=\"M759.949 1479.7 L764.833 1479.7 L764.833 1485.58 L759.949 1485.58 L759.949 1479.7 Z\" fill=\"#000000\" fill-rule=\"evenodd\" fill-opacity=\"1\" /><path clip-path=\"url(#clip570)\" d=\"M779.046 1481.64 L795.365 1481.64 L795.365 1485.58 L773.421 1485.58 L773.421 1481.64 Q776.083 1478.89 780.666 1474.26 Q785.273 1469.61 786.453 1468.27 Q788.699 1465.74 789.578 1464.01 Q790.481 1462.25 790.481 1460.56 Q790.481 1457.8 788.537 1456.07 Q786.615 1454.33 783.513 1454.33 Q781.314 1454.33 778.861 1455.09 Q776.43 1455.86 773.652 1457.41 L773.652 1452.69 Q776.476 1451.55 778.93 1450.97 Q781.384 1450.39 783.421 1450.39 Q788.791 1450.39 791.986 1453.08 Q795.18 1455.77 795.18 1460.26 Q795.18 1462.39 794.37 1464.31 Q793.583 1466.2 791.476 1468.8 Q790.898 1469.47 787.796 1472.69 Q784.694 1475.88 779.046 1481.64 Z\" fill=\"#000000\" fill-rule=\"evenodd\" fill-opacity=\"1\" /><path clip-path=\"url(#clip570)\" d=\"M805.226 1451.02 L823.583 1451.02 L823.583 1454.96 L809.509 1454.96 L809.509 1463.43 Q810.527 1463.08 811.546 1462.92 Q812.564 1462.73 813.583 1462.73 Q819.37 1462.73 822.749 1465.9 Q826.129 1469.08 826.129 1474.49 Q826.129 1480.07 822.657 1483.17 Q819.185 1486.25 812.865 1486.25 Q810.689 1486.25 808.421 1485.88 Q806.175 1485.51 803.768 1484.77 L803.768 1480.07 Q805.851 1481.2 808.074 1481.76 Q810.296 1482.32 812.773 1482.32 Q816.777 1482.32 819.115 1480.21 Q821.453 1478.1 821.453 1474.49 Q821.453 1470.88 819.115 1468.77 Q816.777 1466.67 812.773 1466.67 Q810.898 1466.67 809.023 1467.08 Q807.171 1467.5 805.226 1468.38 L805.226 1451.02 Z\" fill=\"#000000\" fill-rule=\"evenodd\" fill-opacity=\"1\" /><path clip-path=\"url(#clip570)\" d=\"M1244.34 1454.1 Q1240.73 1454.1 1238.9 1457.66 Q1237.1 1461.2 1237.1 1468.33 Q1237.1 1475.44 1238.9 1479.01 Q1240.73 1482.55 1244.34 1482.55 Q1247.98 1482.55 1249.78 1479.01 Q1251.61 1475.44 1251.61 1468.33 Q1251.61 1461.2 1249.78 1457.66 Q1247.98 1454.1 1244.34 1454.1 M1244.34 1450.39 Q1250.15 1450.39 1253.21 1455 Q1256.29 1459.58 1256.29 1468.33 Q1256.29 1477.06 1253.21 1481.67 Q1250.15 1486.25 1244.34 1486.25 Q1238.53 1486.25 1235.45 1481.67 Q1232.4 1477.06 1232.4 1468.33 Q1232.4 1459.58 1235.45 1455 Q1238.53 1450.39 1244.34 1450.39 Z\" fill=\"#000000\" fill-rule=\"evenodd\" fill-opacity=\"1\" /><path clip-path=\"url(#clip570)\" d=\"M1264.51 1479.7 L1269.39 1479.7 L1269.39 1485.58 L1264.51 1485.58 L1264.51 1479.7 Z\" fill=\"#000000\" fill-rule=\"evenodd\" fill-opacity=\"1\" /><path clip-path=\"url(#clip570)\" d=\"M1279.62 1451.02 L1297.98 1451.02 L1297.98 1454.96 L1283.9 1454.96 L1283.9 1463.43 Q1284.92 1463.08 1285.94 1462.92 Q1286.96 1462.73 1287.98 1462.73 Q1293.76 1462.73 1297.14 1465.9 Q1300.52 1469.08 1300.52 1474.49 Q1300.52 1480.07 1297.05 1483.17 Q1293.58 1486.25 1287.26 1486.25 Q1285.08 1486.25 1282.82 1485.88 Q1280.57 1485.51 1278.16 1484.77 L1278.16 1480.07 Q1280.25 1481.2 1282.47 1481.76 Q1284.69 1482.32 1287.17 1482.32 Q1291.17 1482.32 1293.51 1480.21 Q1295.85 1478.1 1295.85 1474.49 Q1295.85 1470.88 1293.51 1468.77 Q1291.17 1466.67 1287.17 1466.67 Q1285.29 1466.67 1283.42 1467.08 Q1281.57 1467.5 1279.62 1468.38 L1279.62 1451.02 Z\" fill=\"#000000\" fill-rule=\"evenodd\" fill-opacity=\"1\" /><path clip-path=\"url(#clip570)\" d=\"M1319.74 1454.1 Q1316.13 1454.1 1314.3 1457.66 Q1312.49 1461.2 1312.49 1468.33 Q1312.49 1475.44 1314.3 1479.01 Q1316.13 1482.55 1319.74 1482.55 Q1323.37 1482.55 1325.18 1479.01 Q1327.01 1475.44 1327.01 1468.33 Q1327.01 1461.2 1325.18 1457.66 Q1323.37 1454.1 1319.74 1454.1 M1319.74 1450.39 Q1325.55 1450.39 1328.6 1455 Q1331.68 1459.58 1331.68 1468.33 Q1331.68 1477.06 1328.6 1481.67 Q1325.55 1486.25 1319.74 1486.25 Q1313.93 1486.25 1310.85 1481.67 Q1307.79 1477.06 1307.79 1468.33 Q1307.79 1459.58 1310.85 1455 Q1313.93 1450.39 1319.74 1450.39 Z\" fill=\"#000000\" fill-rule=\"evenodd\" fill-opacity=\"1\" /><path clip-path=\"url(#clip570)\" d=\"M1749.9 1454.1 Q1746.28 1454.1 1744.46 1457.66 Q1742.65 1461.2 1742.65 1468.33 Q1742.65 1475.44 1744.46 1479.01 Q1746.28 1482.55 1749.9 1482.55 Q1753.53 1482.55 1755.34 1479.01 Q1757.16 1475.44 1757.16 1468.33 Q1757.16 1461.2 1755.34 1457.66 Q1753.53 1454.1 1749.9 1454.1 M1749.9 1450.39 Q1755.71 1450.39 1758.76 1455 Q1761.84 1459.58 1761.84 1468.33 Q1761.84 1477.06 1758.76 1481.67 Q1755.71 1486.25 1749.9 1486.25 Q1744.09 1486.25 1741.01 1481.67 Q1737.95 1477.06 1737.95 1468.33 Q1737.95 1459.58 1741.01 1455 Q1744.09 1450.39 1749.9 1450.39 Z\" fill=\"#000000\" fill-rule=\"evenodd\" fill-opacity=\"1\" /><path clip-path=\"url(#clip570)\" d=\"M1770.06 1479.7 L1774.94 1479.7 L1774.94 1485.58 L1770.06 1485.58 L1770.06 1479.7 Z\" fill=\"#000000\" fill-rule=\"evenodd\" fill-opacity=\"1\" /><path clip-path=\"url(#clip570)\" d=\"M1783.95 1451.02 L1806.17 1451.02 L1806.17 1453.01 L1793.62 1485.58 L1788.74 1485.58 L1800.54 1454.96 L1783.95 1454.96 L1783.95 1451.02 Z\" fill=\"#000000\" fill-rule=\"evenodd\" fill-opacity=\"1\" /><path clip-path=\"url(#clip570)\" d=\"M1815.34 1451.02 L1833.69 1451.02 L1833.69 1454.96 L1819.62 1454.96 L1819.62 1463.43 Q1820.64 1463.08 1821.65 1462.92 Q1822.67 1462.73 1823.69 1462.73 Q1829.48 1462.73 1832.86 1465.9 Q1836.24 1469.08 1836.24 1474.49 Q1836.24 1480.07 1832.77 1483.17 Q1829.29 1486.25 1822.97 1486.25 Q1820.8 1486.25 1818.53 1485.88 Q1816.28 1485.51 1813.88 1484.77 L1813.88 1480.07 Q1815.96 1481.2 1818.18 1481.76 Q1820.4 1482.32 1822.88 1482.32 Q1826.89 1482.32 1829.22 1480.21 Q1831.56 1478.1 1831.56 1474.49 Q1831.56 1470.88 1829.22 1468.77 Q1826.89 1466.67 1822.88 1466.67 Q1821.01 1466.67 1819.13 1467.08 Q1817.28 1467.5 1815.34 1468.38 L1815.34 1451.02 Z\" fill=\"#000000\" fill-rule=\"evenodd\" fill-opacity=\"1\" /><path clip-path=\"url(#clip570)\" d=\"M2244.22 1481.64 L2251.86 1481.64 L2251.86 1455.28 L2243.55 1456.95 L2243.55 1452.69 L2251.81 1451.02 L2256.49 1451.02 L2256.49 1481.64 L2264.13 1481.64 L2264.13 1485.58 L2244.22 1485.58 L2244.22 1481.64 Z\" fill=\"#000000\" fill-rule=\"evenodd\" fill-opacity=\"1\" /><path clip-path=\"url(#clip570)\" d=\"M2273.57 1479.7 L2278.46 1479.7 L2278.46 1485.58 L2273.57 1485.58 L2273.57 1479.7 Z\" fill=\"#000000\" fill-rule=\"evenodd\" fill-opacity=\"1\" /><path clip-path=\"url(#clip570)\" d=\"M2298.64 1454.1 Q2295.03 1454.1 2293.2 1457.66 Q2291.4 1461.2 2291.4 1468.33 Q2291.4 1475.44 2293.2 1479.01 Q2295.03 1482.55 2298.64 1482.55 Q2302.28 1482.55 2304.08 1479.01 Q2305.91 1475.44 2305.91 1468.33 Q2305.91 1461.2 2304.08 1457.66 Q2302.28 1454.1 2298.64 1454.1 M2298.64 1450.39 Q2304.45 1450.39 2307.51 1455 Q2310.59 1459.58 2310.59 1468.33 Q2310.59 1477.06 2307.51 1481.67 Q2304.45 1486.25 2298.64 1486.25 Q2292.83 1486.25 2289.75 1481.67 Q2286.7 1477.06 2286.7 1468.33 Q2286.7 1459.58 2289.75 1455 Q2292.83 1450.39 2298.64 1450.39 Z\" fill=\"#000000\" fill-rule=\"evenodd\" fill-opacity=\"1\" /><path clip-path=\"url(#clip570)\" d=\"M2328.8 1454.1 Q2325.19 1454.1 2323.36 1457.66 Q2321.56 1461.2 2321.56 1468.33 Q2321.56 1475.44 2323.36 1479.01 Q2325.19 1482.55 2328.8 1482.55 Q2332.44 1482.55 2334.24 1479.01 Q2336.07 1475.44 2336.07 1468.33 Q2336.07 1461.2 2334.24 1457.66 Q2332.44 1454.1 2328.8 1454.1 M2328.8 1450.39 Q2334.61 1450.39 2337.67 1455 Q2340.75 1459.58 2340.75 1468.33 Q2340.75 1477.06 2337.67 1481.67 Q2334.61 1486.25 2328.8 1486.25 Q2322.99 1486.25 2319.92 1481.67 Q2316.86 1477.06 2316.86 1468.33 Q2316.86 1459.58 2319.92 1455 Q2322.99 1450.39 2328.8 1450.39 Z\" fill=\"#000000\" fill-rule=\"evenodd\" fill-opacity=\"1\" /><path clip-path=\"url(#clip570)\" d=\"M1185.98 1522.27 L1185.98 1532.4 L1198.04 1532.4 L1198.04 1536.95 L1185.98 1536.95 L1185.98 1556.3 Q1185.98 1560.66 1187.16 1561.9 Q1188.37 1563.14 1192.03 1563.14 L1198.04 1563.14 L1198.04 1568.04 L1192.03 1568.04 Q1185.25 1568.04 1182.67 1565.53 Q1180.09 1562.98 1180.09 1556.3 L1180.09 1536.95 L1175.8 1536.95 L1175.8 1532.4 L1180.09 1532.4 L1180.09 1522.27 L1185.98 1522.27 Z\" fill=\"#000000\" fill-rule=\"evenodd\" fill-opacity=\"1\" /><path clip-path=\"url(#clip570)\" d=\"M1240.54 1518.58 Q1236.27 1525.9 1234.2 1533.06 Q1232.13 1540.23 1232.13 1547.58 Q1232.13 1554.93 1234.2 1562.16 Q1236.3 1569.35 1240.54 1576.64 L1235.44 1576.64 Q1230.67 1569.16 1228.28 1561.93 Q1225.93 1554.71 1225.93 1547.58 Q1225.93 1540.48 1228.28 1533.29 Q1230.64 1526.09 1235.44 1518.58 L1240.54 1518.58 Z\" fill=\"#000000\" fill-rule=\"evenodd\" fill-opacity=\"1\" /><path clip-path=\"url(#clip570)\" d=\"M1268.1 1550.12 Q1261 1550.12 1258.26 1551.75 Q1255.53 1553.37 1255.53 1557.29 Q1255.53 1560.4 1257.56 1562.25 Q1259.63 1564.07 1263.17 1564.07 Q1268.04 1564.07 1270.96 1560.63 Q1273.92 1557.16 1273.92 1551.43 L1273.92 1550.12 L1268.1 1550.12 M1279.78 1547.71 L1279.78 1568.04 L1273.92 1568.04 L1273.92 1562.63 Q1271.92 1565.88 1268.93 1567.44 Q1265.94 1568.97 1261.61 1568.97 Q1256.13 1568.97 1252.89 1565.91 Q1249.67 1562.82 1249.67 1557.67 Q1249.67 1551.65 1253.68 1548.6 Q1257.72 1545.54 1265.71 1545.54 L1273.92 1545.54 L1273.92 1544.97 Q1273.92 1540.93 1271.25 1538.73 Q1268.61 1536.5 1263.8 1536.5 Q1260.75 1536.5 1257.85 1537.23 Q1254.95 1537.97 1252.28 1539.43 L1252.28 1534.02 Q1255.5 1532.78 1258.52 1532.17 Q1261.54 1531.54 1264.41 1531.54 Q1272.14 1531.54 1275.96 1535.55 Q1279.78 1539.56 1279.78 1547.71 Z\" fill=\"#000000\" fill-rule=\"evenodd\" fill-opacity=\"1\" /><path clip-path=\"url(#clip570)\" d=\"M1292.67 1559.96 L1299.39 1559.96 L1299.39 1568.04 L1292.67 1568.04 L1292.67 1559.96 Z\" fill=\"#000000\" fill-rule=\"evenodd\" fill-opacity=\"1\" /><path clip-path=\"url(#clip570)\" d=\"M1311.96 1553.98 L1311.96 1532.4 L1317.82 1532.4 L1317.82 1553.75 Q1317.82 1558.81 1319.79 1561.36 Q1321.76 1563.87 1325.71 1563.87 Q1330.45 1563.87 1333.19 1560.85 Q1335.96 1557.83 1335.96 1552.61 L1335.96 1532.4 L1341.81 1532.4 L1341.81 1568.04 L1335.96 1568.04 L1335.96 1562.57 Q1333.83 1565.82 1330.99 1567.41 Q1328.19 1568.97 1324.47 1568.97 Q1318.32 1568.97 1315.14 1565.15 Q1311.96 1561.33 1311.96 1553.98 M1326.7 1531.54 L1326.7 1531.54 Z\" fill=\"#000000\" fill-rule=\"evenodd\" fill-opacity=\"1\" /><path clip-path=\"url(#clip570)\" d=\"M1354.7 1559.96 L1361.42 1559.96 L1361.42 1568.04 L1354.7 1568.04 L1354.7 1559.96 Z\" fill=\"#000000\" fill-rule=\"evenodd\" fill-opacity=\"1\" /><path clip-path=\"url(#clip570)\" d=\"M1373.67 1518.58 L1378.77 1518.58 Q1383.54 1526.09 1385.9 1533.29 Q1388.28 1540.48 1388.28 1547.58 Q1388.28 1554.71 1385.9 1561.93 Q1383.54 1569.16 1378.77 1576.64 L1373.67 1576.64 Q1377.91 1569.35 1379.98 1562.16 Q1382.08 1554.93 1382.08 1547.58 Q1382.08 1540.23 1379.98 1533.06 Q1377.91 1525.9 1373.67 1518.58 Z\" fill=\"#000000\" fill-rule=\"evenodd\" fill-opacity=\"1\" /><polyline clip-path=\"url(#clip572)\" style=\"stroke:#000000; stroke-linecap:butt; stroke-linejoin:round; stroke-width:2; stroke-opacity:0.1; fill:none\" points=\"\n",
       "  211.325,1387.42 2352.76,1387.42 \n",
       "  \"/>\n",
       "<polyline clip-path=\"url(#clip572)\" style=\"stroke:#000000; stroke-linecap:butt; stroke-linejoin:round; stroke-width:2; stroke-opacity:0.1; fill:none\" points=\"\n",
       "  211.325,1167.02 2352.76,1167.02 \n",
       "  \"/>\n",
       "<polyline clip-path=\"url(#clip572)\" style=\"stroke:#000000; stroke-linecap:butt; stroke-linejoin:round; stroke-width:2; stroke-opacity:0.1; fill:none\" points=\"\n",
       "  211.325,946.614 2352.76,946.614 \n",
       "  \"/>\n",
       "<polyline clip-path=\"url(#clip572)\" style=\"stroke:#000000; stroke-linecap:butt; stroke-linejoin:round; stroke-width:2; stroke-opacity:0.1; fill:none\" points=\"\n",
       "  211.325,726.213 2352.76,726.213 \n",
       "  \"/>\n",
       "<polyline clip-path=\"url(#clip572)\" style=\"stroke:#000000; stroke-linecap:butt; stroke-linejoin:round; stroke-width:2; stroke-opacity:0.1; fill:none\" points=\"\n",
       "  211.325,505.811 2352.76,505.811 \n",
       "  \"/>\n",
       "<polyline clip-path=\"url(#clip572)\" style=\"stroke:#000000; stroke-linecap:butt; stroke-linejoin:round; stroke-width:2; stroke-opacity:0.1; fill:none\" points=\"\n",
       "  211.325,285.41 2352.76,285.41 \n",
       "  \"/>\n",
       "<polyline clip-path=\"url(#clip572)\" style=\"stroke:#000000; stroke-linecap:butt; stroke-linejoin:round; stroke-width:2; stroke-opacity:0.1; fill:none\" points=\"\n",
       "  211.325,65.0084 2352.76,65.0084 \n",
       "  \"/>\n",
       "<polyline clip-path=\"url(#clip570)\" style=\"stroke:#000000; stroke-linecap:butt; stroke-linejoin:round; stroke-width:4; stroke-opacity:1; fill:none\" points=\"\n",
       "  211.325,1423.18 211.325,47.2441 \n",
       "  \"/>\n",
       "<polyline clip-path=\"url(#clip570)\" style=\"stroke:#000000; stroke-linecap:butt; stroke-linejoin:round; stroke-width:4; stroke-opacity:1; fill:none\" points=\"\n",
       "  211.325,1387.42 230.222,1387.42 \n",
       "  \"/>\n",
       "<polyline clip-path=\"url(#clip570)\" style=\"stroke:#000000; stroke-linecap:butt; stroke-linejoin:round; stroke-width:4; stroke-opacity:1; fill:none\" points=\"\n",
       "  211.325,1167.02 230.222,1167.02 \n",
       "  \"/>\n",
       "<polyline clip-path=\"url(#clip570)\" style=\"stroke:#000000; stroke-linecap:butt; stroke-linejoin:round; stroke-width:4; stroke-opacity:1; fill:none\" points=\"\n",
       "  211.325,946.614 230.222,946.614 \n",
       "  \"/>\n",
       "<polyline clip-path=\"url(#clip570)\" style=\"stroke:#000000; stroke-linecap:butt; stroke-linejoin:round; stroke-width:4; stroke-opacity:1; fill:none\" points=\"\n",
       "  211.325,726.213 230.222,726.213 \n",
       "  \"/>\n",
       "<polyline clip-path=\"url(#clip570)\" style=\"stroke:#000000; stroke-linecap:butt; stroke-linejoin:round; stroke-width:4; stroke-opacity:1; fill:none\" points=\"\n",
       "  211.325,505.811 230.222,505.811 \n",
       "  \"/>\n",
       "<polyline clip-path=\"url(#clip570)\" style=\"stroke:#000000; stroke-linecap:butt; stroke-linejoin:round; stroke-width:4; stroke-opacity:1; fill:none\" points=\"\n",
       "  211.325,285.41 230.222,285.41 \n",
       "  \"/>\n",
       "<polyline clip-path=\"url(#clip570)\" style=\"stroke:#000000; stroke-linecap:butt; stroke-linejoin:round; stroke-width:4; stroke-opacity:1; fill:none\" points=\"\n",
       "  211.325,65.0084 230.222,65.0084 \n",
       "  \"/>\n",
       "<path clip-path=\"url(#clip570)\" d=\"M114.26 1387.87 L143.936 1387.87 L143.936 1391.8 L114.26 1391.8 L114.26 1387.87 Z\" fill=\"#000000\" fill-rule=\"evenodd\" fill-opacity=\"1\" /><path clip-path=\"url(#clip570)\" d=\"M168.195 1386.06 Q171.552 1386.78 173.427 1389.05 Q175.325 1391.32 175.325 1394.65 Q175.325 1399.77 171.806 1402.57 Q168.288 1405.37 161.806 1405.37 Q159.63 1405.37 157.315 1404.93 Q155.024 1404.51 152.57 1403.66 L152.57 1399.14 Q154.515 1400.28 156.829 1400.85 Q159.144 1401.43 161.667 1401.43 Q166.065 1401.43 168.357 1399.7 Q170.672 1397.96 170.672 1394.65 Q170.672 1391.6 168.519 1389.88 Q166.39 1388.15 162.57 1388.15 L158.542 1388.15 L158.542 1384.3 L162.755 1384.3 Q166.204 1384.3 168.033 1382.94 Q169.862 1381.55 169.862 1378.96 Q169.862 1376.29 167.964 1374.88 Q166.089 1373.45 162.57 1373.45 Q160.649 1373.45 158.45 1373.86 Q156.251 1374.28 153.612 1375.16 L153.612 1370.99 Q156.274 1370.25 158.589 1369.88 Q160.927 1369.51 162.987 1369.51 Q168.311 1369.51 171.413 1371.94 Q174.514 1374.35 174.514 1378.47 Q174.514 1381.34 172.871 1383.33 Q171.227 1385.3 168.195 1386.06 Z\" fill=\"#000000\" fill-rule=\"evenodd\" fill-opacity=\"1\" /><path clip-path=\"url(#clip570)\" d=\"M115.209 1167.47 L144.885 1167.47 L144.885 1171.4 L115.209 1171.4 L115.209 1167.47 Z\" fill=\"#000000\" fill-rule=\"evenodd\" fill-opacity=\"1\" /><path clip-path=\"url(#clip570)\" d=\"M159.005 1180.36 L175.325 1180.36 L175.325 1184.3 L153.38 1184.3 L153.38 1180.36 Q156.042 1177.61 160.626 1172.98 Q165.232 1168.32 166.413 1166.98 Q168.658 1164.46 169.538 1162.72 Q170.44 1160.96 170.44 1159.27 Q170.44 1156.52 168.496 1154.78 Q166.575 1153.05 163.473 1153.05 Q161.274 1153.05 158.82 1153.81 Q156.39 1154.57 153.612 1156.12 L153.612 1151.4 Q156.436 1150.27 158.89 1149.69 Q161.343 1149.11 163.38 1149.11 Q168.751 1149.11 171.945 1151.8 Q175.139 1154.48 175.139 1158.97 Q175.139 1161.1 174.329 1163.02 Q173.542 1164.92 171.436 1167.51 Q170.857 1168.18 167.755 1171.4 Q164.653 1174.6 159.005 1180.36 Z\" fill=\"#000000\" fill-rule=\"evenodd\" fill-opacity=\"1\" /><path clip-path=\"url(#clip570)\" d=\"M114.839 947.066 L144.515 947.066 L144.515 951.001 L114.839 951.001 L114.839 947.066 Z\" fill=\"#000000\" fill-rule=\"evenodd\" fill-opacity=\"1\" /><path clip-path=\"url(#clip570)\" d=\"M155.417 959.959 L163.056 959.959 L163.056 933.594 L154.746 935.26 L154.746 931.001 L163.01 929.334 L167.686 929.334 L167.686 959.959 L175.325 959.959 L175.325 963.894 L155.417 963.894 L155.417 959.959 Z\" fill=\"#000000\" fill-rule=\"evenodd\" fill-opacity=\"1\" /><path clip-path=\"url(#clip570)\" d=\"M163.38 712.012 Q159.769 712.012 157.94 715.576 Q156.135 719.118 156.135 726.248 Q156.135 733.354 157.94 736.919 Q159.769 740.461 163.38 740.461 Q167.015 740.461 168.82 736.919 Q170.649 733.354 170.649 726.248 Q170.649 719.118 168.82 715.576 Q167.015 712.012 163.38 712.012 M163.38 708.308 Q169.19 708.308 172.246 712.914 Q175.325 717.498 175.325 726.248 Q175.325 734.974 172.246 739.581 Q169.19 744.164 163.38 744.164 Q157.57 744.164 154.491 739.581 Q151.436 734.974 151.436 726.248 Q151.436 717.498 154.491 712.914 Q157.57 708.308 163.38 708.308 Z\" fill=\"#000000\" fill-rule=\"evenodd\" fill-opacity=\"1\" /><path clip-path=\"url(#clip570)\" d=\"M155.417 519.156 L163.056 519.156 L163.056 492.791 L154.746 494.457 L154.746 490.198 L163.01 488.531 L167.686 488.531 L167.686 519.156 L175.325 519.156 L175.325 523.091 L155.417 523.091 L155.417 519.156 Z\" fill=\"#000000\" fill-rule=\"evenodd\" fill-opacity=\"1\" /><path clip-path=\"url(#clip570)\" d=\"M159.005 298.755 L175.325 298.755 L175.325 302.69 L153.38 302.69 L153.38 298.755 Q156.042 296 160.626 291.371 Q165.232 286.718 166.413 285.375 Q168.658 282.852 169.538 281.116 Q170.44 279.357 170.44 277.667 Q170.44 274.912 168.496 273.176 Q166.575 271.44 163.473 271.44 Q161.274 271.44 158.82 272.204 Q156.39 272.968 153.612 274.519 L153.612 269.797 Q156.436 268.662 158.89 268.084 Q161.343 267.505 163.38 267.505 Q168.751 267.505 171.945 270.19 Q175.139 272.875 175.139 277.366 Q175.139 279.496 174.329 281.417 Q173.542 283.315 171.436 285.908 Q170.857 286.579 167.755 289.796 Q164.653 292.991 159.005 298.755 Z\" fill=\"#000000\" fill-rule=\"evenodd\" fill-opacity=\"1\" /><path clip-path=\"url(#clip570)\" d=\"M168.195 63.6542 Q171.552 64.3718 173.427 66.6403 Q175.325 68.9088 175.325 72.2421 Q175.325 77.3578 171.806 80.1588 Q168.288 82.9597 161.806 82.9597 Q159.63 82.9597 157.315 82.5198 Q155.024 82.1032 152.57 81.2467 L152.57 76.7328 Q154.515 77.8671 156.829 78.4458 Q159.144 79.0245 161.667 79.0245 Q166.065 79.0245 168.357 77.2884 Q170.672 75.5523 170.672 72.2421 Q170.672 69.1866 168.519 67.4736 Q166.39 65.7375 162.57 65.7375 L158.542 65.7375 L158.542 61.895 L162.755 61.895 Q166.204 61.895 168.033 60.5292 Q169.862 59.1403 169.862 56.5478 Q169.862 53.8857 167.964 52.4737 Q166.089 51.0385 162.57 51.0385 Q160.649 51.0385 158.45 51.4552 Q156.251 51.8719 153.612 52.7515 L153.612 48.5848 Q156.274 47.8441 158.589 47.4737 Q160.927 47.1034 162.987 47.1034 Q168.311 47.1034 171.413 49.5339 Q174.514 51.9413 174.514 56.0617 Q174.514 58.932 172.871 60.9227 Q171.227 62.8903 168.195 63.6542 Z\" fill=\"#000000\" fill-rule=\"evenodd\" fill-opacity=\"1\" /><path clip-path=\"url(#clip570)\" d=\"M58.3387 784.96 L64.0042 784.96 L64.0042 804.057 L58.3387 804.057 Q55.2513 798.423 49.9678 795.272 Q44.6842 792.121 38.2549 792.121 Q30.616 792.121 26.0009 796.323 Q21.3858 800.524 21.3858 807.399 Q21.3858 814.274 26.0327 818.507 Q30.6479 822.709 38.2549 822.709 Q44.6842 822.709 49.9678 819.558 Q55.2513 816.375 58.3387 810.709 L64.0042 810.709 L64.0042 829.806 L58.3387 829.806 L58.3387 819.653 Q53.9145 824.682 49.1721 827.005 Q44.4296 829.297 38.5732 829.297 Q28.4517 829.297 22.1815 823.186 Q15.9112 817.107 15.9112 807.399 Q15.9112 797.755 22.1815 791.612 Q28.4199 785.501 38.2549 785.501 Q44.4296 785.501 49.1402 787.761 Q53.8509 790.021 58.3387 795.145 L58.3387 784.96 Z\" fill=\"#000000\" fill-rule=\"evenodd\" fill-opacity=\"1\" /><path clip-path=\"url(#clip570)\" d=\"M16.4842 745.206 L16.4842 739.795 L70.0516 756.346 L70.0516 761.757 L16.4842 745.206 Z\" fill=\"#000000\" fill-rule=\"evenodd\" fill-opacity=\"1\" /><path clip-path=\"url(#clip570)\" d=\"M64.9272 701.569 Q64.9272 714.778 46.021 714.778 Q38.5413 714.778 28.3562 709.845 L28.3562 703.543 Q38.5413 708.094 46.1802 708.094 Q59.9619 708.094 59.9619 701.028 Q59.9619 694.567 42.8382 694.567 L42.8382 689.156 Q59.9619 689.156 59.9619 682.695 Q59.9619 675.629 46.1802 675.629 Q38.5413 675.629 28.3562 680.18 L28.3562 673.878 Q38.5413 668.945 46.021 668.945 Q64.9272 668.945 64.9272 682.154 Q64.9272 690.811 55.4105 691.862 Q64.9272 693.166 64.9272 701.569 Z\" fill=\"#000000\" fill-rule=\"evenodd\" fill-opacity=\"1\" /><path clip-path=\"url(#clip570)\" d=\"M42.4562 646.347 Q39.719 647.938 39.719 651.153 Q39.719 654.367 42.4562 655.959 Q45.1935 657.582 50.668 657.582 Q56.1743 657.582 58.9116 655.959 Q61.6488 654.367 61.6488 651.153 Q61.6488 647.938 58.9116 646.347 Q56.1743 644.723 50.668 644.723 Q45.1935 644.723 42.4562 646.347 M36.8862 651.153 Q36.8862 646.028 40.4192 643.323 Q43.9522 640.618 50.668 640.618 Q57.4157 640.618 60.9486 643.323 Q64.4816 646.028 64.4816 651.153 Q64.4816 656.309 60.9486 659.014 Q57.4157 661.72 50.668 661.72 Q43.9522 661.72 40.4192 659.014 Q36.8862 656.309 36.8862 651.153 Z\" fill=\"#000000\" fill-rule=\"evenodd\" fill-opacity=\"1\" /><polyline clip-path=\"url(#clip572)\" style=\"stroke:#009af9; stroke-linecap:butt; stroke-linejoin:round; stroke-width:4; stroke-opacity:1; fill:none\" points=\"\n",
       "  271.931,86.1857 292.133,86.5273 312.336,86.9231 332.538,87.3835 352.74,87.9218 372.942,88.5546 393.144,89.3034 413.346,90.1957 433.549,91.2676 453.751,92.5673 \n",
       "  473.953,94.1594 494.155,96.1324 514.357,98.6099 534.56,101.767 554.762,105.858 574.964,111.258 595.166,118.534 615.368,128.564 635.57,142.722 655.773,163.197 \n",
       "  675.975,193.469 696.177,238.927 716.379,307.315 736.581,407.86 756.784,546.843 776.986,718.71 797.188,900.12 817.39,1059.88 837.592,1178.99 857.794,1257.48 \n",
       "  877.997,1305.63 898.199,1334.34 918.401,1351.5 938.603,1361.96 958.805,1368.53 979.008,1372.8 999.21,1375.66 1019.41,1377.64 1039.61,1379.05 1059.82,1380.09 \n",
       "  1080.02,1380.86 1100.22,1381.45 1120.42,1381.91 1140.63,1382.27 1160.83,1382.57 1181.03,1382.8 1201.23,1383 1221.43,1383.16 1241.64,1383.3 1261.84,1383.41 \n",
       "  1282.04,1383.51 1302.24,1383.59 1322.44,1383.66 1342.65,1383.73 1362.85,1383.78 1383.05,1383.83 1403.25,1383.87 1423.46,1383.91 1443.66,1383.94 1463.86,1383.97 \n",
       "  1484.06,1383.99 1504.26,1384.02 1524.47,1384.04 1544.67,1384.06 1564.87,1384.07 1585.07,1384.09 1605.28,1384.1 1625.48,1384.11 1645.68,1384.12 1665.88,1384.13 \n",
       "  1686.08,1384.14 1706.29,1384.15 1726.49,1384.16 1746.69,1384.17 1766.89,1384.17 1787.09,1384.18 1807.3,1384.18 1827.5,1384.19 1847.7,1384.19 1867.9,1384.2 \n",
       "  1888.11,1384.2 1908.31,1384.2 1928.51,1384.21 1948.71,1384.21 1968.91,1384.21 1989.12,1384.22 2009.32,1384.22 2029.52,1384.22 2049.72,1384.22 2069.93,1384.22 \n",
       "  2090.13,1384.23 2110.33,1384.23 2130.53,1384.23 2150.73,1384.23 2170.94,1384.23 2191.14,1384.23 2211.34,1384.23 2231.54,1384.24 2251.74,1384.24 2271.95,1384.24 \n",
       "  2292.15,1384.24 \n",
       "  \"/>\n",
       "</svg>\n"
      ]
     },
     "execution_count": 4,
     "metadata": {},
     "output_type": "execute_result"
    }
   ],
   "source": [
    "ts = t0:t1/100:t1\n",
    "\n",
    "plot(ts, [Ω(sol.params, t) for t in ts])\n",
    "plot!(xlabel=\"t (a.u.)\", ylabel=\"Ω / ω₀\", legend=false)"
   ]
  },
  {
   "cell_type": "markdown",
   "metadata": {},
   "source": [
    "In order to solve the noisy problem with the existing machinery, we have to vectorize our master equation such that it takes on the form of a Schrödinger equation. We do this by applying the vectorization identity $\\text{vec}(A B C) = (C^T \\otimes A)\\text{vec}(B)$ using `vectorize` methods.\n",
    "\n",
    "Since our initial state is a pure state $|\\psi\\rangle = |\\downarrow\\rangle$, we can represent the overlap with the final mixed state using the formula $\\langle\\psi|\\rho|\\psi\\rangle = \\text{Tr}(|\\psi\\rangle\\langle\\psi|\\rho)$. We can use another vectorization identity, $\\text{Tr}(A^\\dagger B) = \\text{vec}(A)^\\dagger\\text{vec}(B)$, to get $\\text{Tr}(|\\psi\\rangle\\langle\\psi|\\rho) = \\text{vec}(|\\psi\\rangle\\langle\\psi|)^\\dagger\\text{vec}(\\rho)$. Then the infidelity can be measured with the cost function `(x, y) -> 1.0 - real(x' * y)`. Note that this infidelity measure matches the one used above for pure states."
   ]
  },
  {
   "cell_type": "code",
   "execution_count": 5,
   "metadata": {},
   "outputs": [],
   "source": [
    "costv = CostFunction((x, y) -> 1.0 - real(x'*y))\n",
    "\n",
    "transv = vectorize(trans)\n",
    "J = [sigmam(bs)]\n",
    "rates = [0.01]\n",
    "Hv = vectorize(H, J, rates);"
   ]
  },
  {
   "cell_type": "markdown",
   "metadata": {},
   "source": [
    "Let us evolve the noisy system using the pulse optimized for the noiseless case."
   ]
  },
  {
   "cell_type": "code",
   "execution_count": 6,
   "metadata": {},
   "outputs": [
    {
     "name": "stdout",
     "output_type": "stream",
     "text": [
      "Infidelity: 0.0026460929131392197\n"
     ]
    }
   ],
   "source": [
    "tout, psit = master_dynamic((t0, t1), spindown(bs), H, sol.params, J, rates)\n",
    "println(\"Infidelity: \", costv.distance(vectorize(spinup(bs)).data, vec(psit[end].data)))"
   ]
  },
  {
   "cell_type": "markdown",
   "metadata": {},
   "source": [
    "We see that the infidelity increased from roughly 0.0005 to 0.003. We can mitigate this by further optimizing our pulse on our noisy system."
   ]
  },
  {
   "cell_type": "code",
   "execution_count": 7,
   "metadata": {},
   "outputs": [
    {
     "name": "stderr",
     "output_type": "stream",
     "text": [
      "\r",
      "\u001b[32mProgress: 100%|█████████████████████████████████████████| Time: 0:03:00\u001b[39m\r\n",
      "\u001b[34m  distance:     0.002472516421956006\u001b[39m\r\n",
      "\u001b[34m  constraints:  0.0\u001b[39m\n"
     ]
    },
    {
     "name": "stdout",
     "output_type": "stream",
     "text": [
      "180.761774 seconds (55.19 M allocations: 7.403 GiB, 95.99% gc time, 0.12% compilation time)\n"
     ]
    }
   ],
   "source": [
    "probv = QOCProblem(Hv, transv, (t0, t1), costv)\n",
    "@time solv = solve(probv, sol.params, ADAM(0.1); maxiter=500);"
   ]
  },
  {
   "cell_type": "code",
   "execution_count": 8,
   "metadata": {},
   "outputs": [
    {
     "data": {
      "image/svg+xml": [
       "<?xml version=\"1.0\" encoding=\"utf-8\"?>\n",
       "<svg xmlns=\"http://www.w3.org/2000/svg\" xmlns:xlink=\"http://www.w3.org/1999/xlink\" width=\"600\" height=\"400\" viewBox=\"0 0 2400 1600\">\n",
       "<defs>\n",
       "  <clipPath id=\"clip610\">\n",
       "    <rect x=\"0\" y=\"0\" width=\"2400\" height=\"1600\"/>\n",
       "  </clipPath>\n",
       "</defs>\n",
       "<path clip-path=\"url(#clip610)\" d=\"\n",
       "M0 1600 L2400 1600 L2400 0 L0 0  Z\n",
       "  \" fill=\"#ffffff\" fill-rule=\"evenodd\" fill-opacity=\"1\"/>\n",
       "<defs>\n",
       "  <clipPath id=\"clip611\">\n",
       "    <rect x=\"480\" y=\"0\" width=\"1681\" height=\"1600\"/>\n",
       "  </clipPath>\n",
       "</defs>\n",
       "<path clip-path=\"url(#clip610)\" d=\"\n",
       "M211.325 1423.18 L2352.76 1423.18 L2352.76 47.2441 L211.325 47.2441  Z\n",
       "  \" fill=\"#ffffff\" fill-rule=\"evenodd\" fill-opacity=\"1\"/>\n",
       "<defs>\n",
       "  <clipPath id=\"clip612\">\n",
       "    <rect x=\"211\" y=\"47\" width=\"2142\" height=\"1377\"/>\n",
       "  </clipPath>\n",
       "</defs>\n",
       "<polyline clip-path=\"url(#clip612)\" style=\"stroke:#000000; stroke-linecap:butt; stroke-linejoin:round; stroke-width:2; stroke-opacity:0.1; fill:none\" points=\"\n",
       "  271.931,1423.18 271.931,47.2441 \n",
       "  \"/>\n",
       "<polyline clip-path=\"url(#clip612)\" style=\"stroke:#000000; stroke-linecap:butt; stroke-linejoin:round; stroke-width:2; stroke-opacity:0.1; fill:none\" points=\"\n",
       "  776.986,1423.18 776.986,47.2441 \n",
       "  \"/>\n",
       "<polyline clip-path=\"url(#clip612)\" style=\"stroke:#000000; stroke-linecap:butt; stroke-linejoin:round; stroke-width:2; stroke-opacity:0.1; fill:none\" points=\"\n",
       "  1282.04,1423.18 1282.04,47.2441 \n",
       "  \"/>\n",
       "<polyline clip-path=\"url(#clip612)\" style=\"stroke:#000000; stroke-linecap:butt; stroke-linejoin:round; stroke-width:2; stroke-opacity:0.1; fill:none\" points=\"\n",
       "  1787.09,1423.18 1787.09,47.2441 \n",
       "  \"/>\n",
       "<polyline clip-path=\"url(#clip612)\" style=\"stroke:#000000; stroke-linecap:butt; stroke-linejoin:round; stroke-width:2; stroke-opacity:0.1; fill:none\" points=\"\n",
       "  2292.15,1423.18 2292.15,47.2441 \n",
       "  \"/>\n",
       "<polyline clip-path=\"url(#clip610)\" style=\"stroke:#000000; stroke-linecap:butt; stroke-linejoin:round; stroke-width:4; stroke-opacity:1; fill:none\" points=\"\n",
       "  211.325,1423.18 2352.76,1423.18 \n",
       "  \"/>\n",
       "<polyline clip-path=\"url(#clip610)\" style=\"stroke:#000000; stroke-linecap:butt; stroke-linejoin:round; stroke-width:4; stroke-opacity:1; fill:none\" points=\"\n",
       "  271.931,1423.18 271.931,1404.28 \n",
       "  \"/>\n",
       "<polyline clip-path=\"url(#clip610)\" style=\"stroke:#000000; stroke-linecap:butt; stroke-linejoin:round; stroke-width:4; stroke-opacity:1; fill:none\" points=\"\n",
       "  776.986,1423.18 776.986,1404.28 \n",
       "  \"/>\n",
       "<polyline clip-path=\"url(#clip610)\" style=\"stroke:#000000; stroke-linecap:butt; stroke-linejoin:round; stroke-width:4; stroke-opacity:1; fill:none\" points=\"\n",
       "  1282.04,1423.18 1282.04,1404.28 \n",
       "  \"/>\n",
       "<polyline clip-path=\"url(#clip610)\" style=\"stroke:#000000; stroke-linecap:butt; stroke-linejoin:round; stroke-width:4; stroke-opacity:1; fill:none\" points=\"\n",
       "  1787.09,1423.18 1787.09,1404.28 \n",
       "  \"/>\n",
       "<polyline clip-path=\"url(#clip610)\" style=\"stroke:#000000; stroke-linecap:butt; stroke-linejoin:round; stroke-width:4; stroke-opacity:1; fill:none\" points=\"\n",
       "  2292.15,1423.18 2292.15,1404.28 \n",
       "  \"/>\n",
       "<path clip-path=\"url(#clip610)\" d=\"M234.235 1454.1 Q230.624 1454.1 228.795 1457.66 Q226.989 1461.2 226.989 1468.33 Q226.989 1475.44 228.795 1479.01 Q230.624 1482.55 234.235 1482.55 Q237.869 1482.55 239.674 1479.01 Q241.503 1475.44 241.503 1468.33 Q241.503 1461.2 239.674 1457.66 Q237.869 1454.1 234.235 1454.1 M234.235 1450.39 Q240.045 1450.39 243.1 1455 Q246.179 1459.58 246.179 1468.33 Q246.179 1477.06 243.1 1481.67 Q240.045 1486.25 234.235 1486.25 Q228.424 1486.25 225.346 1481.67 Q222.29 1477.06 222.29 1468.33 Q222.29 1459.58 225.346 1455 Q228.424 1450.39 234.235 1450.39 Z\" fill=\"#000000\" fill-rule=\"evenodd\" fill-opacity=\"1\" /><path clip-path=\"url(#clip610)\" d=\"M254.397 1479.7 L259.281 1479.7 L259.281 1485.58 L254.397 1485.58 L254.397 1479.7 Z\" fill=\"#000000\" fill-rule=\"evenodd\" fill-opacity=\"1\" /><path clip-path=\"url(#clip610)\" d=\"M279.466 1454.1 Q275.855 1454.1 274.026 1457.66 Q272.221 1461.2 272.221 1468.33 Q272.221 1475.44 274.026 1479.01 Q275.855 1482.55 279.466 1482.55 Q283.1 1482.55 284.906 1479.01 Q286.734 1475.44 286.734 1468.33 Q286.734 1461.2 284.906 1457.66 Q283.1 1454.1 279.466 1454.1 M279.466 1450.39 Q285.276 1450.39 288.332 1455 Q291.41 1459.58 291.41 1468.33 Q291.41 1477.06 288.332 1481.67 Q285.276 1486.25 279.466 1486.25 Q273.656 1486.25 270.577 1481.67 Q267.521 1477.06 267.521 1468.33 Q267.521 1459.58 270.577 1455 Q273.656 1450.39 279.466 1450.39 Z\" fill=\"#000000\" fill-rule=\"evenodd\" fill-opacity=\"1\" /><path clip-path=\"url(#clip610)\" d=\"M309.628 1454.1 Q306.017 1454.1 304.188 1457.66 Q302.382 1461.2 302.382 1468.33 Q302.382 1475.44 304.188 1479.01 Q306.017 1482.55 309.628 1482.55 Q313.262 1482.55 315.068 1479.01 Q316.896 1475.44 316.896 1468.33 Q316.896 1461.2 315.068 1457.66 Q313.262 1454.1 309.628 1454.1 M309.628 1450.39 Q315.438 1450.39 318.493 1455 Q321.572 1459.58 321.572 1468.33 Q321.572 1477.06 318.493 1481.67 Q315.438 1486.25 309.628 1486.25 Q303.818 1486.25 300.739 1481.67 Q297.683 1477.06 297.683 1468.33 Q297.683 1459.58 300.739 1455 Q303.818 1450.39 309.628 1450.39 Z\" fill=\"#000000\" fill-rule=\"evenodd\" fill-opacity=\"1\" /><path clip-path=\"url(#clip610)\" d=\"M739.787 1454.1 Q736.176 1454.1 734.347 1457.66 Q732.542 1461.2 732.542 1468.33 Q732.542 1475.44 734.347 1479.01 Q736.176 1482.55 739.787 1482.55 Q743.421 1482.55 745.227 1479.01 Q747.055 1475.44 747.055 1468.33 Q747.055 1461.2 745.227 1457.66 Q743.421 1454.1 739.787 1454.1 M739.787 1450.39 Q745.597 1450.39 748.653 1455 Q751.731 1459.58 751.731 1468.33 Q751.731 1477.06 748.653 1481.67 Q745.597 1486.25 739.787 1486.25 Q733.977 1486.25 730.898 1481.67 Q727.842 1477.06 727.842 1468.33 Q727.842 1459.58 730.898 1455 Q733.977 1450.39 739.787 1450.39 Z\" fill=\"#000000\" fill-rule=\"evenodd\" fill-opacity=\"1\" /><path clip-path=\"url(#clip610)\" d=\"M759.949 1479.7 L764.833 1479.7 L764.833 1485.58 L759.949 1485.58 L759.949 1479.7 Z\" fill=\"#000000\" fill-rule=\"evenodd\" fill-opacity=\"1\" /><path clip-path=\"url(#clip610)\" d=\"M779.046 1481.64 L795.365 1481.64 L795.365 1485.58 L773.421 1485.58 L773.421 1481.64 Q776.083 1478.89 780.666 1474.26 Q785.273 1469.61 786.453 1468.27 Q788.699 1465.74 789.578 1464.01 Q790.481 1462.25 790.481 1460.56 Q790.481 1457.8 788.537 1456.07 Q786.615 1454.33 783.513 1454.33 Q781.314 1454.33 778.861 1455.09 Q776.43 1455.86 773.652 1457.41 L773.652 1452.69 Q776.476 1451.55 778.93 1450.97 Q781.384 1450.39 783.421 1450.39 Q788.791 1450.39 791.986 1453.08 Q795.18 1455.77 795.18 1460.26 Q795.18 1462.39 794.37 1464.31 Q793.583 1466.2 791.476 1468.8 Q790.898 1469.47 787.796 1472.69 Q784.694 1475.88 779.046 1481.64 Z\" fill=\"#000000\" fill-rule=\"evenodd\" fill-opacity=\"1\" /><path clip-path=\"url(#clip610)\" d=\"M805.226 1451.02 L823.583 1451.02 L823.583 1454.96 L809.509 1454.96 L809.509 1463.43 Q810.527 1463.08 811.546 1462.92 Q812.564 1462.73 813.583 1462.73 Q819.37 1462.73 822.749 1465.9 Q826.129 1469.08 826.129 1474.49 Q826.129 1480.07 822.657 1483.17 Q819.185 1486.25 812.865 1486.25 Q810.689 1486.25 808.421 1485.88 Q806.175 1485.51 803.768 1484.77 L803.768 1480.07 Q805.851 1481.2 808.074 1481.76 Q810.296 1482.32 812.773 1482.32 Q816.777 1482.32 819.115 1480.21 Q821.453 1478.1 821.453 1474.49 Q821.453 1470.88 819.115 1468.77 Q816.777 1466.67 812.773 1466.67 Q810.898 1466.67 809.023 1467.08 Q807.171 1467.5 805.226 1468.38 L805.226 1451.02 Z\" fill=\"#000000\" fill-rule=\"evenodd\" fill-opacity=\"1\" /><path clip-path=\"url(#clip610)\" d=\"M1244.34 1454.1 Q1240.73 1454.1 1238.9 1457.66 Q1237.1 1461.2 1237.1 1468.33 Q1237.1 1475.44 1238.9 1479.01 Q1240.73 1482.55 1244.34 1482.55 Q1247.98 1482.55 1249.78 1479.01 Q1251.61 1475.44 1251.61 1468.33 Q1251.61 1461.2 1249.78 1457.66 Q1247.98 1454.1 1244.34 1454.1 M1244.34 1450.39 Q1250.15 1450.39 1253.21 1455 Q1256.29 1459.58 1256.29 1468.33 Q1256.29 1477.06 1253.21 1481.67 Q1250.15 1486.25 1244.34 1486.25 Q1238.53 1486.25 1235.45 1481.67 Q1232.4 1477.06 1232.4 1468.33 Q1232.4 1459.58 1235.45 1455 Q1238.53 1450.39 1244.34 1450.39 Z\" fill=\"#000000\" fill-rule=\"evenodd\" fill-opacity=\"1\" /><path clip-path=\"url(#clip610)\" d=\"M1264.51 1479.7 L1269.39 1479.7 L1269.39 1485.58 L1264.51 1485.58 L1264.51 1479.7 Z\" fill=\"#000000\" fill-rule=\"evenodd\" fill-opacity=\"1\" /><path clip-path=\"url(#clip610)\" d=\"M1279.62 1451.02 L1297.98 1451.02 L1297.98 1454.96 L1283.9 1454.96 L1283.9 1463.43 Q1284.92 1463.08 1285.94 1462.92 Q1286.96 1462.73 1287.98 1462.73 Q1293.76 1462.73 1297.14 1465.9 Q1300.52 1469.08 1300.52 1474.49 Q1300.52 1480.07 1297.05 1483.17 Q1293.58 1486.25 1287.26 1486.25 Q1285.08 1486.25 1282.82 1485.88 Q1280.57 1485.51 1278.16 1484.77 L1278.16 1480.07 Q1280.25 1481.2 1282.47 1481.76 Q1284.69 1482.32 1287.17 1482.32 Q1291.17 1482.32 1293.51 1480.21 Q1295.85 1478.1 1295.85 1474.49 Q1295.85 1470.88 1293.51 1468.77 Q1291.17 1466.67 1287.17 1466.67 Q1285.29 1466.67 1283.42 1467.08 Q1281.57 1467.5 1279.62 1468.38 L1279.62 1451.02 Z\" fill=\"#000000\" fill-rule=\"evenodd\" fill-opacity=\"1\" /><path clip-path=\"url(#clip610)\" d=\"M1319.74 1454.1 Q1316.13 1454.1 1314.3 1457.66 Q1312.49 1461.2 1312.49 1468.33 Q1312.49 1475.44 1314.3 1479.01 Q1316.13 1482.55 1319.74 1482.55 Q1323.37 1482.55 1325.18 1479.01 Q1327.01 1475.44 1327.01 1468.33 Q1327.01 1461.2 1325.18 1457.66 Q1323.37 1454.1 1319.74 1454.1 M1319.74 1450.39 Q1325.55 1450.39 1328.6 1455 Q1331.68 1459.58 1331.68 1468.33 Q1331.68 1477.06 1328.6 1481.67 Q1325.55 1486.25 1319.74 1486.25 Q1313.93 1486.25 1310.85 1481.67 Q1307.79 1477.06 1307.79 1468.33 Q1307.79 1459.58 1310.85 1455 Q1313.93 1450.39 1319.74 1450.39 Z\" fill=\"#000000\" fill-rule=\"evenodd\" fill-opacity=\"1\" /><path clip-path=\"url(#clip610)\" d=\"M1749.9 1454.1 Q1746.28 1454.1 1744.46 1457.66 Q1742.65 1461.2 1742.65 1468.33 Q1742.65 1475.44 1744.46 1479.01 Q1746.28 1482.55 1749.9 1482.55 Q1753.53 1482.55 1755.34 1479.01 Q1757.16 1475.44 1757.16 1468.33 Q1757.16 1461.2 1755.34 1457.66 Q1753.53 1454.1 1749.9 1454.1 M1749.9 1450.39 Q1755.71 1450.39 1758.76 1455 Q1761.84 1459.58 1761.84 1468.33 Q1761.84 1477.06 1758.76 1481.67 Q1755.71 1486.25 1749.9 1486.25 Q1744.09 1486.25 1741.01 1481.67 Q1737.95 1477.06 1737.95 1468.33 Q1737.95 1459.58 1741.01 1455 Q1744.09 1450.39 1749.9 1450.39 Z\" fill=\"#000000\" fill-rule=\"evenodd\" fill-opacity=\"1\" /><path clip-path=\"url(#clip610)\" d=\"M1770.06 1479.7 L1774.94 1479.7 L1774.94 1485.58 L1770.06 1485.58 L1770.06 1479.7 Z\" fill=\"#000000\" fill-rule=\"evenodd\" fill-opacity=\"1\" /><path clip-path=\"url(#clip610)\" d=\"M1783.95 1451.02 L1806.17 1451.02 L1806.17 1453.01 L1793.62 1485.58 L1788.74 1485.58 L1800.54 1454.96 L1783.95 1454.96 L1783.95 1451.02 Z\" fill=\"#000000\" fill-rule=\"evenodd\" fill-opacity=\"1\" /><path clip-path=\"url(#clip610)\" d=\"M1815.34 1451.02 L1833.69 1451.02 L1833.69 1454.96 L1819.62 1454.96 L1819.62 1463.43 Q1820.64 1463.08 1821.65 1462.92 Q1822.67 1462.73 1823.69 1462.73 Q1829.48 1462.73 1832.86 1465.9 Q1836.24 1469.08 1836.24 1474.49 Q1836.24 1480.07 1832.77 1483.17 Q1829.29 1486.25 1822.97 1486.25 Q1820.8 1486.25 1818.53 1485.88 Q1816.28 1485.51 1813.88 1484.77 L1813.88 1480.07 Q1815.96 1481.2 1818.18 1481.76 Q1820.4 1482.32 1822.88 1482.32 Q1826.89 1482.32 1829.22 1480.21 Q1831.56 1478.1 1831.56 1474.49 Q1831.56 1470.88 1829.22 1468.77 Q1826.89 1466.67 1822.88 1466.67 Q1821.01 1466.67 1819.13 1467.08 Q1817.28 1467.5 1815.34 1468.38 L1815.34 1451.02 Z\" fill=\"#000000\" fill-rule=\"evenodd\" fill-opacity=\"1\" /><path clip-path=\"url(#clip610)\" d=\"M2244.22 1481.64 L2251.86 1481.64 L2251.86 1455.28 L2243.55 1456.95 L2243.55 1452.69 L2251.81 1451.02 L2256.49 1451.02 L2256.49 1481.64 L2264.13 1481.64 L2264.13 1485.58 L2244.22 1485.58 L2244.22 1481.64 Z\" fill=\"#000000\" fill-rule=\"evenodd\" fill-opacity=\"1\" /><path clip-path=\"url(#clip610)\" d=\"M2273.57 1479.7 L2278.46 1479.7 L2278.46 1485.58 L2273.57 1485.58 L2273.57 1479.7 Z\" fill=\"#000000\" fill-rule=\"evenodd\" fill-opacity=\"1\" /><path clip-path=\"url(#clip610)\" d=\"M2298.64 1454.1 Q2295.03 1454.1 2293.2 1457.66 Q2291.4 1461.2 2291.4 1468.33 Q2291.4 1475.44 2293.2 1479.01 Q2295.03 1482.55 2298.64 1482.55 Q2302.28 1482.55 2304.08 1479.01 Q2305.91 1475.44 2305.91 1468.33 Q2305.91 1461.2 2304.08 1457.66 Q2302.28 1454.1 2298.64 1454.1 M2298.64 1450.39 Q2304.45 1450.39 2307.51 1455 Q2310.59 1459.58 2310.59 1468.33 Q2310.59 1477.06 2307.51 1481.67 Q2304.45 1486.25 2298.64 1486.25 Q2292.83 1486.25 2289.75 1481.67 Q2286.7 1477.06 2286.7 1468.33 Q2286.7 1459.58 2289.75 1455 Q2292.83 1450.39 2298.64 1450.39 Z\" fill=\"#000000\" fill-rule=\"evenodd\" fill-opacity=\"1\" /><path clip-path=\"url(#clip610)\" d=\"M2328.8 1454.1 Q2325.19 1454.1 2323.36 1457.66 Q2321.56 1461.2 2321.56 1468.33 Q2321.56 1475.44 2323.36 1479.01 Q2325.19 1482.55 2328.8 1482.55 Q2332.44 1482.55 2334.24 1479.01 Q2336.07 1475.44 2336.07 1468.33 Q2336.07 1461.2 2334.24 1457.66 Q2332.44 1454.1 2328.8 1454.1 M2328.8 1450.39 Q2334.61 1450.39 2337.67 1455 Q2340.75 1459.58 2340.75 1468.33 Q2340.75 1477.06 2337.67 1481.67 Q2334.61 1486.25 2328.8 1486.25 Q2322.99 1486.25 2319.92 1481.67 Q2316.86 1477.06 2316.86 1468.33 Q2316.86 1459.58 2319.92 1455 Q2322.99 1450.39 2328.8 1450.39 Z\" fill=\"#000000\" fill-rule=\"evenodd\" fill-opacity=\"1\" /><path clip-path=\"url(#clip610)\" d=\"M1185.98 1522.27 L1185.98 1532.4 L1198.04 1532.4 L1198.04 1536.95 L1185.98 1536.95 L1185.98 1556.3 Q1185.98 1560.66 1187.16 1561.9 Q1188.37 1563.14 1192.03 1563.14 L1198.04 1563.14 L1198.04 1568.04 L1192.03 1568.04 Q1185.25 1568.04 1182.67 1565.53 Q1180.09 1562.98 1180.09 1556.3 L1180.09 1536.95 L1175.8 1536.95 L1175.8 1532.4 L1180.09 1532.4 L1180.09 1522.27 L1185.98 1522.27 Z\" fill=\"#000000\" fill-rule=\"evenodd\" fill-opacity=\"1\" /><path clip-path=\"url(#clip610)\" d=\"M1240.54 1518.58 Q1236.27 1525.9 1234.2 1533.06 Q1232.13 1540.23 1232.13 1547.58 Q1232.13 1554.93 1234.2 1562.16 Q1236.3 1569.35 1240.54 1576.64 L1235.44 1576.64 Q1230.67 1569.16 1228.28 1561.93 Q1225.93 1554.71 1225.93 1547.58 Q1225.93 1540.48 1228.28 1533.29 Q1230.64 1526.09 1235.44 1518.58 L1240.54 1518.58 Z\" fill=\"#000000\" fill-rule=\"evenodd\" fill-opacity=\"1\" /><path clip-path=\"url(#clip610)\" d=\"M1268.1 1550.12 Q1261 1550.12 1258.26 1551.75 Q1255.53 1553.37 1255.53 1557.29 Q1255.53 1560.4 1257.56 1562.25 Q1259.63 1564.07 1263.17 1564.07 Q1268.04 1564.07 1270.96 1560.63 Q1273.92 1557.16 1273.92 1551.43 L1273.92 1550.12 L1268.1 1550.12 M1279.78 1547.71 L1279.78 1568.04 L1273.92 1568.04 L1273.92 1562.63 Q1271.92 1565.88 1268.93 1567.44 Q1265.94 1568.97 1261.61 1568.97 Q1256.13 1568.97 1252.89 1565.91 Q1249.67 1562.82 1249.67 1557.67 Q1249.67 1551.65 1253.68 1548.6 Q1257.72 1545.54 1265.71 1545.54 L1273.92 1545.54 L1273.92 1544.97 Q1273.92 1540.93 1271.25 1538.73 Q1268.61 1536.5 1263.8 1536.5 Q1260.75 1536.5 1257.85 1537.23 Q1254.95 1537.97 1252.28 1539.43 L1252.28 1534.02 Q1255.5 1532.78 1258.52 1532.17 Q1261.54 1531.54 1264.41 1531.54 Q1272.14 1531.54 1275.96 1535.55 Q1279.78 1539.56 1279.78 1547.71 Z\" fill=\"#000000\" fill-rule=\"evenodd\" fill-opacity=\"1\" /><path clip-path=\"url(#clip610)\" d=\"M1292.67 1559.96 L1299.39 1559.96 L1299.39 1568.04 L1292.67 1568.04 L1292.67 1559.96 Z\" fill=\"#000000\" fill-rule=\"evenodd\" fill-opacity=\"1\" /><path clip-path=\"url(#clip610)\" d=\"M1311.96 1553.98 L1311.96 1532.4 L1317.82 1532.4 L1317.82 1553.75 Q1317.82 1558.81 1319.79 1561.36 Q1321.76 1563.87 1325.71 1563.87 Q1330.45 1563.87 1333.19 1560.85 Q1335.96 1557.83 1335.96 1552.61 L1335.96 1532.4 L1341.81 1532.4 L1341.81 1568.04 L1335.96 1568.04 L1335.96 1562.57 Q1333.83 1565.82 1330.99 1567.41 Q1328.19 1568.97 1324.47 1568.97 Q1318.32 1568.97 1315.14 1565.15 Q1311.96 1561.33 1311.96 1553.98 M1326.7 1531.54 L1326.7 1531.54 Z\" fill=\"#000000\" fill-rule=\"evenodd\" fill-opacity=\"1\" /><path clip-path=\"url(#clip610)\" d=\"M1354.7 1559.96 L1361.42 1559.96 L1361.42 1568.04 L1354.7 1568.04 L1354.7 1559.96 Z\" fill=\"#000000\" fill-rule=\"evenodd\" fill-opacity=\"1\" /><path clip-path=\"url(#clip610)\" d=\"M1373.67 1518.58 L1378.77 1518.58 Q1383.54 1526.09 1385.9 1533.29 Q1388.28 1540.48 1388.28 1547.58 Q1388.28 1554.71 1385.9 1561.93 Q1383.54 1569.16 1378.77 1576.64 L1373.67 1576.64 Q1377.91 1569.35 1379.98 1562.16 Q1382.08 1554.93 1382.08 1547.58 Q1382.08 1540.23 1379.98 1533.06 Q1377.91 1525.9 1373.67 1518.58 Z\" fill=\"#000000\" fill-rule=\"evenodd\" fill-opacity=\"1\" /><polyline clip-path=\"url(#clip612)\" style=\"stroke:#000000; stroke-linecap:butt; stroke-linejoin:round; stroke-width:2; stroke-opacity:0.1; fill:none\" points=\"\n",
       "  211.325,1384.35 2352.76,1384.35 \n",
       "  \"/>\n",
       "<polyline clip-path=\"url(#clip612)\" style=\"stroke:#000000; stroke-linecap:butt; stroke-linejoin:round; stroke-width:2; stroke-opacity:0.1; fill:none\" points=\"\n",
       "  211.325,1167.95 2352.76,1167.95 \n",
       "  \"/>\n",
       "<polyline clip-path=\"url(#clip612)\" style=\"stroke:#000000; stroke-linecap:butt; stroke-linejoin:round; stroke-width:2; stroke-opacity:0.1; fill:none\" points=\"\n",
       "  211.325,951.553 2352.76,951.553 \n",
       "  \"/>\n",
       "<polyline clip-path=\"url(#clip612)\" style=\"stroke:#000000; stroke-linecap:butt; stroke-linejoin:round; stroke-width:2; stroke-opacity:0.1; fill:none\" points=\"\n",
       "  211.325,735.154 2352.76,735.154 \n",
       "  \"/>\n",
       "<polyline clip-path=\"url(#clip612)\" style=\"stroke:#000000; stroke-linecap:butt; stroke-linejoin:round; stroke-width:2; stroke-opacity:0.1; fill:none\" points=\"\n",
       "  211.325,518.755 2352.76,518.755 \n",
       "  \"/>\n",
       "<polyline clip-path=\"url(#clip612)\" style=\"stroke:#000000; stroke-linecap:butt; stroke-linejoin:round; stroke-width:2; stroke-opacity:0.1; fill:none\" points=\"\n",
       "  211.325,302.356 2352.76,302.356 \n",
       "  \"/>\n",
       "<polyline clip-path=\"url(#clip612)\" style=\"stroke:#000000; stroke-linecap:butt; stroke-linejoin:round; stroke-width:2; stroke-opacity:0.1; fill:none\" points=\"\n",
       "  211.325,85.9574 2352.76,85.9574 \n",
       "  \"/>\n",
       "<polyline clip-path=\"url(#clip610)\" style=\"stroke:#000000; stroke-linecap:butt; stroke-linejoin:round; stroke-width:4; stroke-opacity:1; fill:none\" points=\"\n",
       "  211.325,1423.18 211.325,47.2441 \n",
       "  \"/>\n",
       "<polyline clip-path=\"url(#clip610)\" style=\"stroke:#000000; stroke-linecap:butt; stroke-linejoin:round; stroke-width:4; stroke-opacity:1; fill:none\" points=\"\n",
       "  211.325,1384.35 230.222,1384.35 \n",
       "  \"/>\n",
       "<polyline clip-path=\"url(#clip610)\" style=\"stroke:#000000; stroke-linecap:butt; stroke-linejoin:round; stroke-width:4; stroke-opacity:1; fill:none\" points=\"\n",
       "  211.325,1167.95 230.222,1167.95 \n",
       "  \"/>\n",
       "<polyline clip-path=\"url(#clip610)\" style=\"stroke:#000000; stroke-linecap:butt; stroke-linejoin:round; stroke-width:4; stroke-opacity:1; fill:none\" points=\"\n",
       "  211.325,951.553 230.222,951.553 \n",
       "  \"/>\n",
       "<polyline clip-path=\"url(#clip610)\" style=\"stroke:#000000; stroke-linecap:butt; stroke-linejoin:round; stroke-width:4; stroke-opacity:1; fill:none\" points=\"\n",
       "  211.325,735.154 230.222,735.154 \n",
       "  \"/>\n",
       "<polyline clip-path=\"url(#clip610)\" style=\"stroke:#000000; stroke-linecap:butt; stroke-linejoin:round; stroke-width:4; stroke-opacity:1; fill:none\" points=\"\n",
       "  211.325,518.755 230.222,518.755 \n",
       "  \"/>\n",
       "<polyline clip-path=\"url(#clip610)\" style=\"stroke:#000000; stroke-linecap:butt; stroke-linejoin:round; stroke-width:4; stroke-opacity:1; fill:none\" points=\"\n",
       "  211.325,302.356 230.222,302.356 \n",
       "  \"/>\n",
       "<polyline clip-path=\"url(#clip610)\" style=\"stroke:#000000; stroke-linecap:butt; stroke-linejoin:round; stroke-width:4; stroke-opacity:1; fill:none\" points=\"\n",
       "  211.325,85.9574 230.222,85.9574 \n",
       "  \"/>\n",
       "<path clip-path=\"url(#clip610)\" d=\"M114.26 1384.8 L143.936 1384.8 L143.936 1388.74 L114.26 1388.74 L114.26 1384.8 Z\" fill=\"#000000\" fill-rule=\"evenodd\" fill-opacity=\"1\" /><path clip-path=\"url(#clip610)\" d=\"M168.195 1383 Q171.552 1383.71 173.427 1385.98 Q175.325 1388.25 175.325 1391.58 Q175.325 1396.7 171.806 1399.5 Q168.288 1402.3 161.806 1402.3 Q159.63 1402.3 157.315 1401.86 Q155.024 1401.45 152.57 1400.59 L152.57 1396.08 Q154.515 1397.21 156.829 1397.79 Q159.144 1398.37 161.667 1398.37 Q166.065 1398.37 168.357 1396.63 Q170.672 1394.89 170.672 1391.58 Q170.672 1388.53 168.519 1386.82 Q166.39 1385.08 162.57 1385.08 L158.542 1385.08 L158.542 1381.24 L162.755 1381.24 Q166.204 1381.24 168.033 1379.87 Q169.862 1378.48 169.862 1375.89 Q169.862 1373.23 167.964 1371.82 Q166.089 1370.38 162.57 1370.38 Q160.649 1370.38 158.45 1370.8 Q156.251 1371.21 153.612 1372.09 L153.612 1367.93 Q156.274 1367.19 158.589 1366.82 Q160.927 1366.45 162.987 1366.45 Q168.311 1366.45 171.413 1368.88 Q174.514 1371.28 174.514 1375.4 Q174.514 1378.27 172.871 1380.27 Q171.227 1382.23 168.195 1383 Z\" fill=\"#000000\" fill-rule=\"evenodd\" fill-opacity=\"1\" /><path clip-path=\"url(#clip610)\" d=\"M115.209 1168.4 L144.885 1168.4 L144.885 1172.34 L115.209 1172.34 L115.209 1168.4 Z\" fill=\"#000000\" fill-rule=\"evenodd\" fill-opacity=\"1\" /><path clip-path=\"url(#clip610)\" d=\"M159.005 1181.3 L175.325 1181.3 L175.325 1185.23 L153.38 1185.23 L153.38 1181.3 Q156.042 1178.54 160.626 1173.91 Q165.232 1169.26 166.413 1167.92 Q168.658 1165.39 169.538 1163.66 Q170.44 1161.9 170.44 1160.21 Q170.44 1157.45 168.496 1155.72 Q166.575 1153.98 163.473 1153.98 Q161.274 1153.98 158.82 1154.75 Q156.39 1155.51 153.612 1157.06 L153.612 1152.34 Q156.436 1151.2 158.89 1150.63 Q161.343 1150.05 163.38 1150.05 Q168.751 1150.05 171.945 1152.73 Q175.139 1155.42 175.139 1159.91 Q175.139 1162.04 174.329 1163.96 Q173.542 1165.86 171.436 1168.45 Q170.857 1169.12 167.755 1172.34 Q164.653 1175.53 159.005 1181.3 Z\" fill=\"#000000\" fill-rule=\"evenodd\" fill-opacity=\"1\" /><path clip-path=\"url(#clip610)\" d=\"M114.839 952.004 L144.515 952.004 L144.515 955.94 L114.839 955.94 L114.839 952.004 Z\" fill=\"#000000\" fill-rule=\"evenodd\" fill-opacity=\"1\" /><path clip-path=\"url(#clip610)\" d=\"M155.417 964.898 L163.056 964.898 L163.056 938.532 L154.746 940.199 L154.746 935.94 L163.01 934.273 L167.686 934.273 L167.686 964.898 L175.325 964.898 L175.325 968.833 L155.417 968.833 L155.417 964.898 Z\" fill=\"#000000\" fill-rule=\"evenodd\" fill-opacity=\"1\" /><path clip-path=\"url(#clip610)\" d=\"M163.38 720.953 Q159.769 720.953 157.94 724.518 Q156.135 728.059 156.135 735.189 Q156.135 742.295 157.94 745.86 Q159.769 749.402 163.38 749.402 Q167.015 749.402 168.82 745.86 Q170.649 742.295 170.649 735.189 Q170.649 728.059 168.82 724.518 Q167.015 720.953 163.38 720.953 M163.38 717.249 Q169.19 717.249 172.246 721.856 Q175.325 726.439 175.325 735.189 Q175.325 743.916 172.246 748.522 Q169.19 753.105 163.38 753.105 Q157.57 753.105 154.491 748.522 Q151.436 743.916 151.436 735.189 Q151.436 726.439 154.491 721.856 Q157.57 717.249 163.38 717.249 Z\" fill=\"#000000\" fill-rule=\"evenodd\" fill-opacity=\"1\" /><path clip-path=\"url(#clip610)\" d=\"M155.417 532.1 L163.056 532.1 L163.056 505.734 L154.746 507.401 L154.746 503.142 L163.01 501.475 L167.686 501.475 L167.686 532.1 L175.325 532.1 L175.325 536.035 L155.417 536.035 L155.417 532.1 Z\" fill=\"#000000\" fill-rule=\"evenodd\" fill-opacity=\"1\" /><path clip-path=\"url(#clip610)\" d=\"M159.005 315.701 L175.325 315.701 L175.325 319.636 L153.38 319.636 L153.38 315.701 Q156.042 312.947 160.626 308.317 Q165.232 303.664 166.413 302.322 Q168.658 299.798 169.538 298.062 Q170.44 296.303 170.44 294.613 Q170.44 291.859 168.496 290.123 Q166.575 288.386 163.473 288.386 Q161.274 288.386 158.82 289.15 Q156.39 289.914 153.612 291.465 L153.612 286.743 Q156.436 285.609 158.89 285.03 Q161.343 284.451 163.38 284.451 Q168.751 284.451 171.945 287.136 Q175.139 289.822 175.139 294.312 Q175.139 296.442 174.329 298.363 Q173.542 300.261 171.436 302.854 Q170.857 303.525 167.755 306.743 Q164.653 309.937 159.005 315.701 Z\" fill=\"#000000\" fill-rule=\"evenodd\" fill-opacity=\"1\" /><path clip-path=\"url(#clip610)\" d=\"M168.195 84.6032 Q171.552 85.3208 173.427 87.5893 Q175.325 89.8578 175.325 93.1912 Q175.325 98.3069 171.806 101.108 Q168.288 103.909 161.806 103.909 Q159.63 103.909 157.315 103.469 Q155.024 103.052 152.57 102.196 L152.57 97.6819 Q154.515 98.8161 156.829 99.3948 Q159.144 99.9735 161.667 99.9735 Q166.065 99.9735 168.357 98.2374 Q170.672 96.5013 170.672 93.1912 Q170.672 90.1356 168.519 88.4227 Q166.39 86.6866 162.57 86.6866 L158.542 86.6866 L158.542 82.844 L162.755 82.844 Q166.204 82.844 168.033 81.4783 Q169.862 80.0894 169.862 77.4968 Q169.862 74.8348 167.964 73.4227 Q166.089 71.9876 162.57 71.9876 Q160.649 71.9876 158.45 72.4042 Q156.251 72.8209 153.612 73.7005 L153.612 69.5339 Q156.274 68.7931 158.589 68.4228 Q160.927 68.0524 162.987 68.0524 Q168.311 68.0524 171.413 70.4829 Q174.514 72.8903 174.514 77.0107 Q174.514 79.881 172.871 81.8718 Q171.227 83.8394 168.195 84.6032 Z\" fill=\"#000000\" fill-rule=\"evenodd\" fill-opacity=\"1\" /><path clip-path=\"url(#clip610)\" d=\"M58.3387 784.96 L64.0042 784.96 L64.0042 804.057 L58.3387 804.057 Q55.2513 798.423 49.9678 795.272 Q44.6842 792.121 38.2549 792.121 Q30.616 792.121 26.0009 796.323 Q21.3858 800.524 21.3858 807.399 Q21.3858 814.274 26.0327 818.507 Q30.6479 822.709 38.2549 822.709 Q44.6842 822.709 49.9678 819.558 Q55.2513 816.375 58.3387 810.709 L64.0042 810.709 L64.0042 829.806 L58.3387 829.806 L58.3387 819.653 Q53.9145 824.682 49.1721 827.005 Q44.4296 829.297 38.5732 829.297 Q28.4517 829.297 22.1815 823.186 Q15.9112 817.107 15.9112 807.399 Q15.9112 797.755 22.1815 791.612 Q28.4199 785.501 38.2549 785.501 Q44.4296 785.501 49.1402 787.761 Q53.8509 790.021 58.3387 795.145 L58.3387 784.96 Z\" fill=\"#000000\" fill-rule=\"evenodd\" fill-opacity=\"1\" /><path clip-path=\"url(#clip610)\" d=\"M16.4842 745.206 L16.4842 739.795 L70.0516 756.346 L70.0516 761.757 L16.4842 745.206 Z\" fill=\"#000000\" fill-rule=\"evenodd\" fill-opacity=\"1\" /><path clip-path=\"url(#clip610)\" d=\"M64.9272 701.569 Q64.9272 714.778 46.021 714.778 Q38.5413 714.778 28.3562 709.845 L28.3562 703.543 Q38.5413 708.094 46.1802 708.094 Q59.9619 708.094 59.9619 701.028 Q59.9619 694.567 42.8382 694.567 L42.8382 689.156 Q59.9619 689.156 59.9619 682.695 Q59.9619 675.629 46.1802 675.629 Q38.5413 675.629 28.3562 680.18 L28.3562 673.878 Q38.5413 668.945 46.021 668.945 Q64.9272 668.945 64.9272 682.154 Q64.9272 690.811 55.4105 691.862 Q64.9272 693.166 64.9272 701.569 Z\" fill=\"#000000\" fill-rule=\"evenodd\" fill-opacity=\"1\" /><path clip-path=\"url(#clip610)\" d=\"M42.4562 646.347 Q39.719 647.938 39.719 651.153 Q39.719 654.367 42.4562 655.959 Q45.1935 657.582 50.668 657.582 Q56.1743 657.582 58.9116 655.959 Q61.6488 654.367 61.6488 651.153 Q61.6488 647.938 58.9116 646.347 Q56.1743 644.723 50.668 644.723 Q45.1935 644.723 42.4562 646.347 M36.8862 651.153 Q36.8862 646.028 40.4192 643.323 Q43.9522 640.618 50.668 640.618 Q57.4157 640.618 60.9486 643.323 Q64.4816 646.028 64.4816 651.153 Q64.4816 656.309 60.9486 659.014 Q57.4157 661.72 50.668 661.72 Q43.9522 661.72 40.4192 659.014 Q36.8862 656.309 36.8862 651.153 Z\" fill=\"#000000\" fill-rule=\"evenodd\" fill-opacity=\"1\" /><polyline clip-path=\"url(#clip612)\" style=\"stroke:#009af9; stroke-linecap:butt; stroke-linejoin:round; stroke-width:4; stroke-opacity:1; fill:none\" points=\"\n",
       "  271.931,106.75 292.133,107.086 312.336,107.474 332.538,107.926 352.74,108.455 372.942,109.076 393.144,109.811 413.346,110.687 433.549,111.74 453.751,113.016 \n",
       "  473.953,114.579 494.155,116.516 514.357,118.949 534.56,122.049 554.762,126.065 574.964,131.367 595.166,138.511 615.368,148.358 635.57,162.259 655.773,182.363 \n",
       "  675.975,212.085 696.177,256.717 716.379,323.863 736.581,422.583 756.784,559.041 776.986,727.788 797.188,905.903 817.39,1062.77 837.592,1179.7 857.794,1256.77 \n",
       "  877.997,1304.04 898.199,1332.24 918.401,1349.09 938.603,1359.36 958.805,1365.81 979.008,1370 999.21,1372.81 1019.41,1374.75 1039.61,1376.14 1059.82,1377.15 \n",
       "  1080.02,1377.91 1100.22,1378.49 1120.42,1378.94 1140.63,1379.3 1160.83,1379.59 1181.03,1379.82 1201.23,1380.01 1221.43,1380.17 1241.64,1380.3 1261.84,1380.42 \n",
       "  1282.04,1380.51 1302.24,1380.59 1322.44,1380.67 1342.65,1380.73 1362.85,1380.78 1383.05,1380.83 1403.25,1380.87 1423.46,1380.9 1443.66,1380.93 1463.86,1380.96 \n",
       "  1484.06,1380.99 1504.26,1381.01 1524.47,1381.03 1544.67,1381.05 1564.87,1381.07 1585.07,1381.08 1605.28,1381.09 1625.48,1381.11 1645.68,1381.12 1665.88,1381.13 \n",
       "  1686.08,1381.14 1706.29,1381.14 1726.49,1381.15 1746.69,1381.16 1766.89,1381.16 1787.09,1381.17 1807.3,1381.18 1827.5,1381.18 1847.7,1381.19 1867.9,1381.19 \n",
       "  1888.11,1381.19 1908.31,1381.2 1928.51,1381.2 1948.71,1381.2 1968.91,1381.21 1989.12,1381.21 2009.32,1381.21 2029.52,1381.21 2049.72,1381.21 2069.93,1381.22 \n",
       "  2090.13,1381.22 2110.33,1381.22 2130.53,1381.22 2150.73,1381.22 2170.94,1381.22 2191.14,1381.22 2211.34,1381.23 2231.54,1381.23 2251.74,1381.23 2271.95,1381.23 \n",
       "  2292.15,1381.23 \n",
       "  \"/>\n",
       "<polyline clip-path=\"url(#clip612)\" style=\"stroke:#e26f46; stroke-linecap:butt; stroke-linejoin:round; stroke-width:4; stroke-opacity:1; fill:none\" points=\"\n",
       "  271.931,86.1857 292.133,86.1858 312.336,86.1859 332.538,86.186 352.74,86.1862 372.942,86.1864 393.144,86.1866 413.346,86.1869 433.549,86.1873 453.751,86.1877 \n",
       "  473.953,86.1883 494.155,86.189 514.357,86.19 534.56,86.1915 554.762,86.1935 574.964,86.1965 595.166,86.2011 615.368,86.2087 635.57,86.2221 655.773,86.2479 \n",
       "  675.975,86.3039 696.177,86.4516 716.379,86.9984 736.581,90.8844 756.784,172.195 776.986,1149.06 797.188,1377.91 817.39,1383.69 837.592,1384.12 857.794,1384.2 \n",
       "  877.997,1384.23 898.199,1384.23 918.401,1384.24 938.603,1384.24 958.805,1384.24 979.008,1384.24 999.21,1384.24 1019.41,1384.24 1039.61,1384.24 1059.82,1384.24 \n",
       "  1080.02,1384.24 1100.22,1384.24 1120.42,1384.24 1140.63,1384.24 1160.83,1384.24 1181.03,1384.24 1201.23,1384.24 1221.43,1384.24 1241.64,1384.24 1261.84,1384.24 \n",
       "  1282.04,1384.24 1302.24,1384.24 1322.44,1384.24 1342.65,1384.24 1362.85,1384.24 1383.05,1384.24 1403.25,1384.24 1423.46,1384.24 1443.66,1384.24 1463.86,1384.24 \n",
       "  1484.06,1384.24 1504.26,1384.24 1524.47,1384.24 1544.67,1384.24 1564.87,1384.24 1585.07,1384.24 1605.28,1384.24 1625.48,1384.24 1645.68,1384.24 1665.88,1384.24 \n",
       "  1686.08,1384.24 1706.29,1384.24 1726.49,1384.24 1746.69,1384.24 1766.89,1384.24 1787.09,1384.24 1807.3,1384.24 1827.5,1384.24 1847.7,1384.24 1867.9,1384.24 \n",
       "  1888.11,1384.24 1908.31,1384.24 1928.51,1384.24 1948.71,1384.24 1968.91,1384.24 1989.12,1384.24 2009.32,1384.24 2029.52,1384.24 2049.72,1384.24 2069.93,1384.24 \n",
       "  2090.13,1384.24 2110.33,1384.24 2130.53,1384.24 2150.73,1384.24 2170.94,1384.24 2191.14,1384.24 2211.34,1384.24 2231.54,1384.24 2251.74,1384.24 2271.95,1384.24 \n",
       "  2292.15,1384.24 \n",
       "  \"/>\n",
       "<path clip-path=\"url(#clip610)\" d=\"\n",
       "M1827.17 248.629 L2281.37 248.629 L2281.37 93.1086 L1827.17 93.1086  Z\n",
       "  \" fill=\"#ffffff\" fill-rule=\"evenodd\" fill-opacity=\"1\"/>\n",
       "<polyline clip-path=\"url(#clip610)\" style=\"stroke:#000000; stroke-linecap:butt; stroke-linejoin:round; stroke-width:4; stroke-opacity:1; fill:none\" points=\"\n",
       "  1827.17,248.629 2281.37,248.629 2281.37,93.1086 1827.17,93.1086 1827.17,248.629 \n",
       "  \"/>\n",
       "<polyline clip-path=\"url(#clip610)\" style=\"stroke:#009af9; stroke-linecap:butt; stroke-linejoin:round; stroke-width:4; stroke-opacity:1; fill:none\" points=\"\n",
       "  1850.96,144.949 1993.72,144.949 \n",
       "  \"/>\n",
       "<path clip-path=\"url(#clip610)\" d=\"M2017.52 127.669 L2023.81 127.669 L2039.14 156.581 L2039.14 127.669 L2043.67 127.669 L2043.67 162.229 L2037.38 162.229 L2022.05 133.317 L2022.05 162.229 L2017.52 162.229 L2017.52 127.669 Z\" fill=\"#000000\" fill-rule=\"evenodd\" fill-opacity=\"1\" /><path clip-path=\"url(#clip610)\" d=\"M2062.84 139.289 Q2059.41 139.289 2057.42 141.974 Q2055.43 144.636 2055.43 149.289 Q2055.43 153.942 2057.4 156.627 Q2059.39 159.289 2062.84 159.289 Q2066.24 159.289 2068.23 156.604 Q2070.22 153.918 2070.22 149.289 Q2070.22 144.682 2068.23 141.997 Q2066.24 139.289 2062.84 139.289 M2062.84 135.678 Q2068.39 135.678 2071.57 139.289 Q2074.74 142.9 2074.74 149.289 Q2074.74 155.655 2071.57 159.289 Q2068.39 162.9 2062.84 162.9 Q2057.26 162.9 2054.09 159.289 Q2050.94 155.655 2050.94 149.289 Q2050.94 142.9 2054.09 139.289 Q2057.26 135.678 2062.84 135.678 Z\" fill=\"#000000\" fill-rule=\"evenodd\" fill-opacity=\"1\" /><path clip-path=\"url(#clip610)\" d=\"M2081.8 136.303 L2086.06 136.303 L2086.06 162.229 L2081.8 162.229 L2081.8 136.303 M2081.8 126.21 L2086.06 126.21 L2086.06 131.604 L2081.8 131.604 L2081.8 126.21 Z\" fill=\"#000000\" fill-rule=\"evenodd\" fill-opacity=\"1\" /><path clip-path=\"url(#clip610)\" d=\"M2111.5 137.067 L2111.5 141.094 Q2109.69 140.169 2107.75 139.706 Q2105.8 139.243 2103.72 139.243 Q2100.55 139.243 2098.95 140.215 Q2097.38 141.187 2097.38 143.131 Q2097.38 144.613 2098.51 145.469 Q2099.64 146.303 2103.07 147.067 L2104.53 147.391 Q2109.07 148.363 2110.96 150.145 Q2112.89 151.905 2112.89 155.076 Q2112.89 158.687 2110.02 160.793 Q2107.17 162.9 2102.17 162.9 Q2100.08 162.9 2097.82 162.483 Q2095.57 162.09 2093.07 161.28 L2093.07 156.881 Q2095.43 158.108 2097.72 158.733 Q2100.02 159.335 2102.26 159.335 Q2105.27 159.335 2106.89 158.317 Q2108.51 157.275 2108.51 155.4 Q2108.51 153.664 2107.33 152.738 Q2106.17 151.812 2102.21 150.956 L2100.73 150.608 Q2096.77 149.775 2095.02 148.062 Q2093.26 146.326 2093.26 143.317 Q2093.26 139.659 2095.85 137.669 Q2098.44 135.678 2103.21 135.678 Q2105.57 135.678 2107.65 136.025 Q2109.74 136.372 2111.5 137.067 Z\" fill=\"#000000\" fill-rule=\"evenodd\" fill-opacity=\"1\" /><path clip-path=\"url(#clip610)\" d=\"M2141.84 148.201 L2141.84 150.284 L2122.26 150.284 Q2122.54 154.682 2124.9 156.997 Q2127.28 159.289 2131.52 159.289 Q2133.97 159.289 2136.26 158.687 Q2138.58 158.085 2140.85 156.881 L2140.85 160.909 Q2138.56 161.881 2136.15 162.391 Q2133.74 162.9 2131.26 162.9 Q2125.06 162.9 2121.43 159.289 Q2117.82 155.678 2117.82 149.52 Q2117.82 143.155 2121.24 139.428 Q2124.69 135.678 2130.52 135.678 Q2135.76 135.678 2138.79 139.057 Q2141.84 142.414 2141.84 148.201 M2137.58 146.951 Q2137.54 143.456 2135.62 141.372 Q2133.72 139.289 2130.57 139.289 Q2127.01 139.289 2124.85 141.303 Q2122.72 143.317 2122.4 146.974 L2137.58 146.951 Z\" fill=\"#000000\" fill-rule=\"evenodd\" fill-opacity=\"1\" /><path clip-path=\"url(#clip610)\" d=\"M2148.83 126.21 L2153.09 126.21 L2153.09 162.229 L2148.83 162.229 L2148.83 126.21 Z\" fill=\"#000000\" fill-rule=\"evenodd\" fill-opacity=\"1\" /><path clip-path=\"url(#clip610)\" d=\"M2184.18 148.201 L2184.18 150.284 L2164.6 150.284 Q2164.88 154.682 2167.24 156.997 Q2169.62 159.289 2173.86 159.289 Q2176.31 159.289 2178.6 158.687 Q2180.92 158.085 2183.19 156.881 L2183.19 160.909 Q2180.89 161.881 2178.49 162.391 Q2176.08 162.9 2173.6 162.9 Q2167.4 162.9 2163.76 159.289 Q2160.15 155.678 2160.15 149.52 Q2160.15 143.155 2163.58 139.428 Q2167.03 135.678 2172.86 135.678 Q2178.09 135.678 2181.13 139.057 Q2184.18 142.414 2184.18 148.201 M2179.92 146.951 Q2179.88 143.456 2177.95 141.372 Q2176.06 139.289 2172.91 139.289 Q2169.34 139.289 2167.19 141.303 Q2165.06 143.317 2164.74 146.974 L2179.92 146.951 Z\" fill=\"#000000\" fill-rule=\"evenodd\" fill-opacity=\"1\" /><path clip-path=\"url(#clip610)\" d=\"M2207.7 137.067 L2207.7 141.094 Q2205.89 140.169 2203.95 139.706 Q2202.01 139.243 2199.92 139.243 Q2196.75 139.243 2195.15 140.215 Q2193.58 141.187 2193.58 143.131 Q2193.58 144.613 2194.71 145.469 Q2195.85 146.303 2199.27 147.067 L2200.73 147.391 Q2205.27 148.363 2207.17 150.145 Q2209.09 151.905 2209.09 155.076 Q2209.09 158.687 2206.22 160.793 Q2203.37 162.9 2198.37 162.9 Q2196.29 162.9 2194.02 162.483 Q2191.77 162.09 2189.27 161.28 L2189.27 156.881 Q2191.63 158.108 2193.93 158.733 Q2196.22 159.335 2198.46 159.335 Q2201.47 159.335 2203.09 158.317 Q2204.71 157.275 2204.71 155.4 Q2204.71 153.664 2203.53 152.738 Q2202.38 151.812 2198.42 150.956 L2196.94 150.608 Q2192.98 149.775 2191.22 148.062 Q2189.46 146.326 2189.46 143.317 Q2189.46 139.659 2192.05 137.669 Q2194.64 135.678 2199.41 135.678 Q2201.77 135.678 2203.86 136.025 Q2205.94 136.372 2207.7 137.067 Z\" fill=\"#000000\" fill-rule=\"evenodd\" fill-opacity=\"1\" /><path clip-path=\"url(#clip610)\" d=\"M2232.4 137.067 L2232.4 141.094 Q2230.59 140.169 2228.65 139.706 Q2226.7 139.243 2224.62 139.243 Q2221.45 139.243 2219.85 140.215 Q2218.28 141.187 2218.28 143.131 Q2218.28 144.613 2219.41 145.469 Q2220.55 146.303 2223.97 147.067 L2225.43 147.391 Q2229.97 148.363 2231.87 150.145 Q2233.79 151.905 2233.79 155.076 Q2233.79 158.687 2230.92 160.793 Q2228.07 162.9 2223.07 162.9 Q2220.99 162.9 2218.72 162.483 Q2216.47 162.09 2213.97 161.28 L2213.97 156.881 Q2216.33 158.108 2218.63 158.733 Q2220.92 159.335 2223.16 159.335 Q2226.17 159.335 2227.79 158.317 Q2229.41 157.275 2229.41 155.4 Q2229.41 153.664 2228.23 152.738 Q2227.07 151.812 2223.12 150.956 L2221.63 150.608 Q2217.68 149.775 2215.92 148.062 Q2214.16 146.326 2214.16 143.317 Q2214.16 139.659 2216.75 137.669 Q2219.34 135.678 2224.11 135.678 Q2226.47 135.678 2228.56 136.025 Q2230.64 136.372 2232.4 137.067 Z\" fill=\"#000000\" fill-rule=\"evenodd\" fill-opacity=\"1\" /><polyline clip-path=\"url(#clip610)\" style=\"stroke:#e26f46; stroke-linecap:butt; stroke-linejoin:round; stroke-width:4; stroke-opacity:1; fill:none\" points=\"\n",
       "  1850.96,196.789 1993.72,196.789 \n",
       "  \"/>\n",
       "<path clip-path=\"url(#clip610)\" d=\"M2017.52 179.509 L2023.81 179.509 L2039.14 208.421 L2039.14 179.509 L2043.67 179.509 L2043.67 214.069 L2037.38 214.069 L2022.05 185.157 L2022.05 214.069 L2017.52 214.069 L2017.52 179.509 Z\" fill=\"#000000\" fill-rule=\"evenodd\" fill-opacity=\"1\" /><path clip-path=\"url(#clip610)\" d=\"M2062.84 191.129 Q2059.41 191.129 2057.42 193.814 Q2055.43 196.476 2055.43 201.129 Q2055.43 205.782 2057.4 208.467 Q2059.39 211.129 2062.84 211.129 Q2066.24 211.129 2068.23 208.444 Q2070.22 205.758 2070.22 201.129 Q2070.22 196.522 2068.23 193.837 Q2066.24 191.129 2062.84 191.129 M2062.84 187.518 Q2068.39 187.518 2071.57 191.129 Q2074.74 194.74 2074.74 201.129 Q2074.74 207.495 2071.57 211.129 Q2068.39 214.74 2062.84 214.74 Q2057.26 214.74 2054.09 211.129 Q2050.94 207.495 2050.94 201.129 Q2050.94 194.74 2054.09 191.129 Q2057.26 187.518 2062.84 187.518 Z\" fill=\"#000000\" fill-rule=\"evenodd\" fill-opacity=\"1\" /><path clip-path=\"url(#clip610)\" d=\"M2081.8 188.143 L2086.06 188.143 L2086.06 214.069 L2081.8 214.069 L2081.8 188.143 M2081.8 178.05 L2086.06 178.05 L2086.06 183.444 L2081.8 183.444 L2081.8 178.05 Z\" fill=\"#000000\" fill-rule=\"evenodd\" fill-opacity=\"1\" /><path clip-path=\"url(#clip610)\" d=\"M2111.5 188.907 L2111.5 192.934 Q2109.69 192.009 2107.75 191.546 Q2105.8 191.083 2103.72 191.083 Q2100.55 191.083 2098.95 192.055 Q2097.38 193.027 2097.38 194.971 Q2097.38 196.453 2098.51 197.309 Q2099.64 198.143 2103.07 198.907 L2104.53 199.231 Q2109.07 200.203 2110.96 201.985 Q2112.89 203.745 2112.89 206.916 Q2112.89 210.527 2110.02 212.633 Q2107.17 214.74 2102.17 214.74 Q2100.08 214.74 2097.82 214.323 Q2095.57 213.93 2093.07 213.12 L2093.07 208.721 Q2095.43 209.948 2097.72 210.573 Q2100.02 211.175 2102.26 211.175 Q2105.27 211.175 2106.89 210.157 Q2108.51 209.115 2108.51 207.24 Q2108.51 205.504 2107.33 204.578 Q2106.17 203.652 2102.21 202.796 L2100.73 202.448 Q2096.77 201.615 2095.02 199.902 Q2093.26 198.166 2093.26 195.157 Q2093.26 191.499 2095.85 189.509 Q2098.44 187.518 2103.21 187.518 Q2105.57 187.518 2107.65 187.865 Q2109.74 188.212 2111.5 188.907 Z\" fill=\"#000000\" fill-rule=\"evenodd\" fill-opacity=\"1\" /><path clip-path=\"url(#clip610)\" d=\"M2130.45 216.476 Q2128.65 221.106 2126.94 222.518 Q2125.22 223.93 2122.35 223.93 L2118.95 223.93 L2118.95 220.365 L2121.45 220.365 Q2123.21 220.365 2124.18 219.532 Q2125.15 218.698 2126.33 215.596 L2127.1 213.652 L2116.61 188.143 L2121.13 188.143 L2129.23 208.421 L2137.33 188.143 L2141.84 188.143 L2130.45 216.476 Z\" fill=\"#000000\" fill-rule=\"evenodd\" fill-opacity=\"1\" /></svg>\n"
      ]
     },
     "execution_count": 8,
     "metadata": {},
     "output_type": "execute_result"
    }
   ],
   "source": [
    "plot(ts, [Ω(sol.params, t) for t in ts], label=\"Noiseless\")\n",
    "plot!(ts, [Ω(solv.params, t) for t in ts], label=\"Noisy\")\n",
    "plot!(xlabel=\"t (a.u.)\", ylabel=\"Ω / ω₀\")"
   ]
  },
  {
   "cell_type": "markdown",
   "metadata": {},
   "source": [
    "It's also interesting to note that the achieved infidelity in a noisy system is lower than the infidelity in a noiseless system for the same optimized pulse shape."
   ]
  },
  {
   "cell_type": "code",
   "execution_count": 9,
   "metadata": {},
   "outputs": [
    {
     "name": "stdout",
     "output_type": "stream",
     "text": [
      "Noiseless infidelity: 0.00027491742741714287\n",
      "Noisy infidelity: 0.0024766470915527083\n"
     ]
    }
   ],
   "source": [
    "tout, psit = schroedinger_dynamic((t0, t1), spindown(bs), H, solv.params)\n",
    "println(\"Noiseless infidelity: \", cost.distance(spinup(bs).data, psit[end].data))\n",
    "\n",
    "tout, psit = master_dynamic((t0, t1), spindown(bs), H, solv.params, J, rates)\n",
    "println(\"Noisy infidelity: \", costv.distance(vectorize(spinup(bs)).data, vec(psit[end].data)))"
   ]
  }
 ],
 "metadata": {
  "@webio": {
   "lastCommId": null,
   "lastKernelId": null
  },
  "kernelspec": {
   "display_name": "Julia 1.7.0",
   "language": "julia",
   "name": "julia-1.7"
  },
  "language_info": {
   "file_extension": ".jl",
   "mimetype": "application/julia",
   "name": "julia",
   "version": "1.7.0"
  }
 },
 "nbformat": 4,
 "nbformat_minor": 4
}
