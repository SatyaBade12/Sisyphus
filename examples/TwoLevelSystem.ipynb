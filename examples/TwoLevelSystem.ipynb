{
 "cells": [
  {
   "cell_type": "code",
   "execution_count": 1,
   "metadata": {},
   "outputs": [
    {
     "data": {
      "application/vnd.webio.node+json": {
       "children": [],
       "instanceArgs": {
        "namespace": "html",
        "tag": "div"
       },
       "nodeType": "DOM",
       "props": {},
       "type": "node"
      },
      "text/html": [
       "<div style=\"padding: 1em; background-color: #f8d6da; border: 1px solid #f5c6cb; font-weight: bold;\">\n",
       "<p>The WebIO Jupyter extension was not detected. See the\n",
       "<a href=\"https://juliagizmos.github.io/WebIO.jl/latest/providers/ijulia/\" target=\"_blank\">\n",
       "    WebIO Jupyter integration documentation\n",
       "</a>\n",
       "for more information.\n",
       "</div>\n"
      ],
      "text/plain": [
       "WebIO._IJuliaInit()"
      ]
     },
     "metadata": {
      "application/vnd.webio.node+json": {
       "kernelId": "fadccff6-5028-4294-b103-5227919f9719"
      }
     },
     "output_type": "display_data"
    },
    {
     "data": {
      "text/plain": [
       "false"
      ]
     },
     "execution_count": 1,
     "metadata": {},
     "output_type": "execute_result"
    }
   ],
   "source": [
    "using Revise\n",
    "using QuantumOptimalControl\n",
    "using QuantumOptics\n",
    "using Flux, DiffEqFlux\n",
    "using PlotlyJS\n",
    "using DifferentialEquations: DP5, Tsit5, Vern7, Vern9, BS3\n",
    "using Random\n",
    "using ProgressMeter\n",
    "ProgressMeter.ijulia_behavior(:clear)"
   ]
  },
  {
   "cell_type": "code",
   "execution_count": 2,
   "metadata": {},
   "outputs": [
    {
     "name": "stdout",
     "output_type": "stream",
     "text": [
      "97\n"
     ]
    },
    {
     "data": {
      "text/plain": [
       "(0.0, 5.0)"
      ]
     },
     "execution_count": 2,
     "metadata": {},
     "output_type": "execute_result"
    }
   ],
   "source": [
    "bs = SpinBasis(1//2)\n",
    "n_neurons = 8\n",
    "Random.seed!(1)\n",
    "ann = FastChain(FastDense(1, n_neurons, tanh), \n",
    "                FastDense(n_neurons, n_neurons, tanh),\n",
    "                FastDense(n_neurons, 1))\n",
    "θ = Vector{Float64}(initial_params(ann));\n",
    "n_params = length(θ)\n",
    "println(n_params)\n",
    "(t0, t1)=(0.0, 5.0)"
   ]
  },
  {
   "cell_type": "code",
   "execution_count": 3,
   "metadata": {},
   "outputs": [
    {
     "data": {
      "text/plain": [
       "CostFunction(var\"#1#2\"(), bcs)"
      ]
     },
     "execution_count": 3,
     "metadata": {},
     "output_type": "execute_result"
    }
   ],
   "source": [
    "bcs(params) = (ann([t0], params)[1])^2 + (ann([t1], params)[1])^2\n",
    "cost = CostFunction((x,y)-> 1.0-real(x'*y), bcs)"
   ]
  },
  {
   "cell_type": "code",
   "execution_count": 4,
   "metadata": {},
   "outputs": [],
   "source": [
    "trans = StateTransform(spindown(bs)=>spinup(bs));"
   ]
  },
  {
   "cell_type": "code",
   "execution_count": 5,
   "metadata": {},
   "outputs": [],
   "source": [
    "coeffs(params, t) = ann([t], params)[1]\n",
    "tspan = (t0, t1)\n",
    "H = Hamiltonian(-0.5*sigmaz(bs), [sigmax(bs)], coeffs)\n",
    "prob = QOCProblem(H, trans, tspan, cost);"
   ]
  },
  {
   "cell_type": "code",
   "execution_count": 6,
   "metadata": {},
   "outputs": [
    {
     "name": "stderr",
     "output_type": "stream",
     "text": [
      "\r",
      "\u001b[32mProgress: 100%|█████████████████████████████████████████| Time: 0:01:14\u001b[39m\r\n",
      "\u001b[34m  distance:    4.953560384102218e-7\u001b[39m\r\n",
      "\u001b[34m  contraints:  7.116818599940487e-7\u001b[39m\n"
     ]
    },
    {
     "name": "stdout",
     "output_type": "stream",
     "text": [
      "104.283913 seconds (177.93 M allocations: 11.730 GiB, 45.32% gc time, 54.27% compilation time)\n"
     ]
    },
    {
     "data": {
      "text/plain": [
       "Solution{Float64}([-0.284962152604464, -1.5331911991894618, -1.010023405933112, -0.7365123309741989, -2.5746801648492563, 0.718711589207783, -0.6645587230077273, 0.29561952779882594, 0.614716851881567, 0.18764787090703344  …  -0.11306379618389058, 0.2024893664028441, -0.32691917929989966, 0.45269739829537853, -0.04671211174804547, 0.8082743482458395, -0.5341851468230246, 0.4528547961728511, -0.11834131830299666, 0.0924095845130223], [1.1352716384730854, 1.0255668890862075, 1.0084751278774744, 1.335280825213213, 0.9710824920312312, 0.9004424192532431, 0.7594278767057295, 0.5489853196004976, 0.49894000503020064, 0.5671001448371097  …  4.257042166333491e-6, 3.71450552760777e-6, 3.931315272098779e-6, 3.4457824356071143e-6, 2.3531649397945387e-6, 1.8198556790416376e-6, 1.5427803536915974e-6, 9.538285731247598e-7, 1.35814505686227e-6, 4.953560384102218e-7])"
      ]
     },
     "execution_count": 6,
     "metadata": {},
     "output_type": "execute_result"
    }
   ],
   "source": [
    "@time sol = solve(prob, θ, ADAM(0.08); maxiter=150, abstol=1e-6, reltol=1e-6)"
   ]
  },
  {
   "cell_type": "code",
   "execution_count": 7,
   "metadata": {},
   "outputs": [
    {
     "data": {
      "text/plain": [
       "\"twolevelsys_wfs.eps\""
      ]
     },
     "execution_count": 7,
     "metadata": {},
     "output_type": "execute_result"
    }
   ],
   "source": [
    "ts = t0:t1/100:t1\n",
    "Ω(t) = coeffs(sol.params, t)[1]\n",
    "f = plot([scatter(x=ts, y=Ω.(ts), name=\"Ω\")],\n",
    "     Layout(\n",
    "        xaxis_title_text=\"Time (a.u)\",\n",
    "        yaxis_title_text=\"Ω (a.u)\",\n",
    "        legend=attr(x=0, y=1,),\n",
    "        font=attr(\n",
    "            size=16\n",
    "        )\n",
    "    )\n",
    ")\n",
    "savefig(f, \"twolevelsys_wfs.eps\")"
   ]
  },
  {
   "cell_type": "code",
   "execution_count": 8,
   "metadata": {},
   "outputs": [],
   "source": [
    "tout, psit = schroedinger_dynamic(ts, spindown(bs), H, sol.params);"
   ]
  },
  {
   "cell_type": "code",
   "execution_count": 9,
   "metadata": {},
   "outputs": [
    {
     "data": {
      "text/plain": [
       "\"twolevelsys_overlap.eps\""
      ]
     },
     "execution_count": 9,
     "metadata": {},
     "output_type": "execute_result"
    }
   ],
   "source": [
    "f = plot(\n",
    "    [\n",
    "        scatter(x=tout, y=real(expect(dm(spindown(bs)), psit)), name=\"|↓⟩\")\n",
    "        scatter(x=tout, y=real(expect(dm(spinup(bs)), psit)), name=\"|↑⟩\")\n",
    "    ],\n",
    "    Layout(\n",
    "        xaxis_title_text=\"Time (a.u)\",\n",
    "        yaxis_title_text=\"Population (⟨i|ψ⟩²)\",\n",
    "        legend=attr(x=0.75, y=0.5),\n",
    "        font=attr(\n",
    "            size=16\n",
    "        )\n",
    "     )\n",
    ")\n",
    "savefig(f, \"twolevelsys_overlap.eps\")"
   ]
  },
  {
   "cell_type": "code",
   "execution_count": null,
   "metadata": {},
   "outputs": [],
   "source": []
  }
 ],
 "metadata": {
  "@webio": {
   "lastCommId": "d3459b403dc541f08457e6330572d51e",
   "lastKernelId": "fadccff6-5028-4294-b103-5227919f9719"
  },
  "kernelspec": {
   "display_name": "Julia 1.7.0",
   "language": "julia",
   "name": "julia-1.7"
  },
  "language_info": {
   "file_extension": ".jl",
   "mimetype": "application/julia",
   "name": "julia",
   "version": "1.7.0"
  }
 },
 "nbformat": 4,
 "nbformat_minor": 4
}
